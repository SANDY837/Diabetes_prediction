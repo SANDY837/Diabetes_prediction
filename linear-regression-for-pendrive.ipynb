{
 "cells": [
  {
   "cell_type": "code",
   "execution_count": 1,
   "id": "f76a6d30",
   "metadata": {
    "_cell_guid": "b1076dfc-b9ad-4769-8c92-a6c4dae69d19",
    "_uuid": "8f2839f25d086af736a60e9eeb907d3b93b6e0e5",
    "execution": {
     "iopub.execute_input": "2023-05-21T10:03:30.500826Z",
     "iopub.status.busy": "2023-05-21T10:03:30.499726Z",
     "iopub.status.idle": "2023-05-21T10:03:30.517825Z",
     "shell.execute_reply": "2023-05-21T10:03:30.516689Z"
    },
    "papermill": {
     "duration": 0.035701,
     "end_time": "2023-05-21T10:03:30.519942",
     "exception": false,
     "start_time": "2023-05-21T10:03:30.484241",
     "status": "completed"
    },
    "tags": []
   },
   "outputs": [
    {
     "name": "stdout",
     "output_type": "stream",
     "text": [
      "/kaggle/input/pendrive-dataset/pendrive_data_using_webscraping1.csv\n"
     ]
    }
   ],
   "source": [
    "# This Python 3 environment comes with many helpful analytics libraries installed\n",
    "# It is defined by the kaggle/python Docker image: https://github.com/kaggle/docker-python\n",
    "# For example, here's several helpful packages to load\n",
    "\n",
    "import numpy as np # linear algebra\n",
    "import pandas as pd # data processing, CSV file I/O (e.g. pd.read_csv)\n",
    "\n",
    "# Input data files are available in the read-only \"../input/\" directory\n",
    "# For example, running this (by clicking run or pressing Shift+Enter) will list all files under the input directory\n",
    "\n",
    "import os\n",
    "for dirname, _, filenames in os.walk('/kaggle/input'):\n",
    "    for filename in filenames:\n",
    "        print(os.path.join(dirname, filename))\n",
    "\n",
    "# You can write up to 20GB to the current directory (/kaggle/working/) that gets preserved as output when you create a version using \"Save & Run All\" \n",
    "# You can also write temporary files to /kaggle/temp/, but they won't be saved outside of the current session"
   ]
  },
  {
   "cell_type": "code",
   "execution_count": 2,
   "id": "e5bfb730",
   "metadata": {
    "execution": {
     "iopub.execute_input": "2023-05-21T10:03:30.549081Z",
     "iopub.status.busy": "2023-05-21T10:03:30.548171Z",
     "iopub.status.idle": "2023-05-21T10:03:30.552977Z",
     "shell.execute_reply": "2023-05-21T10:03:30.552074Z"
    },
    "papermill": {
     "duration": 0.021552,
     "end_time": "2023-05-21T10:03:30.555084",
     "exception": false,
     "start_time": "2023-05-21T10:03:30.533532",
     "status": "completed"
    },
    "tags": []
   },
   "outputs": [],
   "source": [
    "import numpy as np\n",
    "import pandas as pd"
   ]
  },
  {
   "cell_type": "code",
   "execution_count": 3,
   "id": "f02905a2",
   "metadata": {
    "execution": {
     "iopub.execute_input": "2023-05-21T10:03:30.583536Z",
     "iopub.status.busy": "2023-05-21T10:03:30.583129Z",
     "iopub.status.idle": "2023-05-21T10:03:30.609166Z",
     "shell.execute_reply": "2023-05-21T10:03:30.608066Z"
    },
    "papermill": {
     "duration": 0.043202,
     "end_time": "2023-05-21T10:03:30.611710",
     "exception": false,
     "start_time": "2023-05-21T10:03:30.568508",
     "status": "completed"
    },
    "tags": []
   },
   "outputs": [],
   "source": [
    "pen_drive=pd.read_csv(\"/kaggle/input/pendrive-dataset/pendrive_data_using_webscraping1.csv\")"
   ]
  },
  {
   "cell_type": "code",
   "execution_count": 4,
   "id": "9174888a",
   "metadata": {
    "execution": {
     "iopub.execute_input": "2023-05-21T10:03:30.640795Z",
     "iopub.status.busy": "2023-05-21T10:03:30.640435Z",
     "iopub.status.idle": "2023-05-21T10:03:30.673457Z",
     "shell.execute_reply": "2023-05-21T10:03:30.672673Z"
    },
    "papermill": {
     "duration": 0.049862,
     "end_time": "2023-05-21T10:03:30.675405",
     "exception": false,
     "start_time": "2023-05-21T10:03:30.625543",
     "status": "completed"
    },
    "tags": []
   },
   "outputs": [
    {
     "data": {
      "text/html": [
       "<div>\n",
       "<style scoped>\n",
       "    .dataframe tbody tr th:only-of-type {\n",
       "        vertical-align: middle;\n",
       "    }\n",
       "\n",
       "    .dataframe tbody tr th {\n",
       "        vertical-align: top;\n",
       "    }\n",
       "\n",
       "    .dataframe thead th {\n",
       "        text-align: right;\n",
       "    }\n",
       "</style>\n",
       "<table border=\"1\" class=\"dataframe\">\n",
       "  <thead>\n",
       "    <tr style=\"text-align: right;\">\n",
       "      <th></th>\n",
       "      <th>Product_name</th>\n",
       "      <th>Model_name</th>\n",
       "      <th>storage</th>\n",
       "      <th>drive_type</th>\n",
       "      <th>rating</th>\n",
       "      <th>reviews</th>\n",
       "      <th>price</th>\n",
       "    </tr>\n",
       "  </thead>\n",
       "  <tbody>\n",
       "    <tr>\n",
       "      <th>0</th>\n",
       "      <td>HP</td>\n",
       "      <td>V22OW</td>\n",
       "      <td>64 GB</td>\n",
       "      <td>Pen Drive</td>\n",
       "      <td>3.8</td>\n",
       "      <td>20687</td>\n",
       "      <td>₹459</td>\n",
       "    </tr>\n",
       "    <tr>\n",
       "      <th>1</th>\n",
       "      <td>HP</td>\n",
       "      <td>V22OW</td>\n",
       "      <td>64 GB</td>\n",
       "      <td>Pen Drive</td>\n",
       "      <td>3.8</td>\n",
       "      <td>8928</td>\n",
       "      <td>₹459</td>\n",
       "    </tr>\n",
       "    <tr>\n",
       "      <th>2</th>\n",
       "      <td>SanDisk</td>\n",
       "      <td>SDDDC3-064G-I35</td>\n",
       "      <td>64 GB</td>\n",
       "      <td>OTG Drive</td>\n",
       "      <td>4.2</td>\n",
       "      <td>29359</td>\n",
       "      <td>₹729</td>\n",
       "    </tr>\n",
       "    <tr>\n",
       "      <th>3</th>\n",
       "      <td>Sandisk</td>\n",
       "      <td>Cruzer</td>\n",
       "      <td>16 GB</td>\n",
       "      <td>Pendrive</td>\n",
       "      <td>4.3</td>\n",
       "      <td>244695</td>\n",
       "      <td>₹279</td>\n",
       "    </tr>\n",
       "    <tr>\n",
       "      <th>4</th>\n",
       "      <td>SanDisk</td>\n",
       "      <td>SDDDC2-128G-I35</td>\n",
       "      <td>28 GB</td>\n",
       "      <td>OTG Drive</td>\n",
       "      <td>4.3</td>\n",
       "      <td>21816</td>\n",
       "      <td>₹1199</td>\n",
       "    </tr>\n",
       "  </tbody>\n",
       "</table>\n",
       "</div>"
      ],
      "text/plain": [
       "  Product_name       Model_name storage drive_type  rating  reviews  price\n",
       "0           HP            V22OW   64 GB  Pen Drive     3.8    20687   ₹459\n",
       "1           HP            V22OW   64 GB  Pen Drive     3.8     8928   ₹459\n",
       "2      SanDisk  SDDDC3-064G-I35   64 GB  OTG Drive     4.2    29359   ₹729\n",
       "3      Sandisk           Cruzer   16 GB   Pendrive     4.3   244695   ₹279\n",
       "4      SanDisk  SDDDC2-128G-I35   28 GB  OTG Drive     4.3    21816  ₹1199"
      ]
     },
     "execution_count": 4,
     "metadata": {},
     "output_type": "execute_result"
    }
   ],
   "source": [
    "pen_drive.head()"
   ]
  },
  {
   "cell_type": "code",
   "execution_count": 5,
   "id": "62f87ffb",
   "metadata": {
    "execution": {
     "iopub.execute_input": "2023-05-21T10:03:30.704632Z",
     "iopub.status.busy": "2023-05-21T10:03:30.704238Z",
     "iopub.status.idle": "2023-05-21T10:03:30.710645Z",
     "shell.execute_reply": "2023-05-21T10:03:30.709561Z"
    },
    "papermill": {
     "duration": 0.023772,
     "end_time": "2023-05-21T10:03:30.712802",
     "exception": false,
     "start_time": "2023-05-21T10:03:30.689030",
     "status": "completed"
    },
    "tags": []
   },
   "outputs": [
    {
     "data": {
      "text/plain": [
       "(1080, 7)"
      ]
     },
     "execution_count": 5,
     "metadata": {},
     "output_type": "execute_result"
    }
   ],
   "source": [
    "pen_drive.shape"
   ]
  },
  {
   "cell_type": "code",
   "execution_count": 6,
   "id": "e995357c",
   "metadata": {
    "execution": {
     "iopub.execute_input": "2023-05-21T10:03:30.743791Z",
     "iopub.status.busy": "2023-05-21T10:03:30.743439Z",
     "iopub.status.idle": "2023-05-21T10:03:30.754854Z",
     "shell.execute_reply": "2023-05-21T10:03:30.753836Z"
    },
    "papermill": {
     "duration": 0.029781,
     "end_time": "2023-05-21T10:03:30.757013",
     "exception": false,
     "start_time": "2023-05-21T10:03:30.727232",
     "status": "completed"
    },
    "tags": []
   },
   "outputs": [
    {
     "data": {
      "text/plain": [
       "Product_name    0\n",
       "Model_name      0\n",
       "storage         0\n",
       "drive_type      0\n",
       "rating          0\n",
       "reviews         0\n",
       "price           0\n",
       "dtype: int64"
      ]
     },
     "execution_count": 6,
     "metadata": {},
     "output_type": "execute_result"
    }
   ],
   "source": [
    "pen_drive.isnull().sum()"
   ]
  },
  {
   "cell_type": "code",
   "execution_count": 7,
   "id": "b02c9c99",
   "metadata": {
    "execution": {
     "iopub.execute_input": "2023-05-21T10:03:30.786813Z",
     "iopub.status.busy": "2023-05-21T10:03:30.786403Z",
     "iopub.status.idle": "2023-05-21T10:03:30.791634Z",
     "shell.execute_reply": "2023-05-21T10:03:30.790543Z"
    },
    "papermill": {
     "duration": 0.022921,
     "end_time": "2023-05-21T10:03:30.793910",
     "exception": false,
     "start_time": "2023-05-21T10:03:30.770989",
     "status": "completed"
    },
    "tags": []
   },
   "outputs": [],
   "source": [
    "backup=pen_drive.copy()"
   ]
  },
  {
   "cell_type": "code",
   "execution_count": null,
   "id": "036408af",
   "metadata": {
    "papermill": {
     "duration": 0.013673,
     "end_time": "2023-05-21T10:03:30.821725",
     "exception": false,
     "start_time": "2023-05-21T10:03:30.808052",
     "status": "completed"
    },
    "tags": []
   },
   "outputs": [],
   "source": []
  },
  {
   "cell_type": "markdown",
   "id": "2fd451fa",
   "metadata": {
    "papermill": {
     "duration": 0.013468,
     "end_time": "2023-05-21T10:03:30.849377",
     "exception": false,
     "start_time": "2023-05-21T10:03:30.835909",
     "status": "completed"
    },
    "tags": []
   },
   "source": [
    "# **Data Cleaning**"
   ]
  },
  {
   "cell_type": "code",
   "execution_count": 8,
   "id": "5cd5b3e4",
   "metadata": {
    "execution": {
     "iopub.execute_input": "2023-05-21T10:03:30.878974Z",
     "iopub.status.busy": "2023-05-21T10:03:30.878554Z",
     "iopub.status.idle": "2023-05-21T10:03:30.903250Z",
     "shell.execute_reply": "2023-05-21T10:03:30.902390Z"
    },
    "papermill": {
     "duration": 0.042202,
     "end_time": "2023-05-21T10:03:30.905392",
     "exception": false,
     "start_time": "2023-05-21T10:03:30.863190",
     "status": "completed"
    },
    "tags": []
   },
   "outputs": [
    {
     "name": "stdout",
     "output_type": "stream",
     "text": [
      "<class 'pandas.core.frame.DataFrame'>\n",
      "RangeIndex: 1080 entries, 0 to 1079\n",
      "Data columns (total 7 columns):\n",
      " #   Column        Non-Null Count  Dtype  \n",
      "---  ------        --------------  -----  \n",
      " 0   Product_name  1080 non-null   object \n",
      " 1   Model_name    1080 non-null   object \n",
      " 2   storage       1080 non-null   object \n",
      " 3   drive_type    1080 non-null   object \n",
      " 4   rating        1080 non-null   float64\n",
      " 5   reviews       1080 non-null   int64  \n",
      " 6   price         1080 non-null   object \n",
      "dtypes: float64(1), int64(1), object(5)\n",
      "memory usage: 59.2+ KB\n"
     ]
    }
   ],
   "source": [
    "pen_drive.info()"
   ]
  },
  {
   "cell_type": "code",
   "execution_count": 9,
   "id": "5444ccee",
   "metadata": {
    "execution": {
     "iopub.execute_input": "2023-05-21T10:03:30.935128Z",
     "iopub.status.busy": "2023-05-21T10:03:30.934712Z",
     "iopub.status.idle": "2023-05-21T10:03:30.943887Z",
     "shell.execute_reply": "2023-05-21T10:03:30.942718Z"
    },
    "papermill": {
     "duration": 0.026556,
     "end_time": "2023-05-21T10:03:30.946047",
     "exception": false,
     "start_time": "2023-05-21T10:03:30.919491",
     "status": "completed"
    },
    "tags": []
   },
   "outputs": [],
   "source": [
    "pen_drive=pen_drive[pen_drive['storage']!=\"Nan\"]"
   ]
  },
  {
   "cell_type": "code",
   "execution_count": 10,
   "id": "2f881796",
   "metadata": {
    "execution": {
     "iopub.execute_input": "2023-05-21T10:03:30.976139Z",
     "iopub.status.busy": "2023-05-21T10:03:30.975745Z",
     "iopub.status.idle": "2023-05-21T10:03:30.982727Z",
     "shell.execute_reply": "2023-05-21T10:03:30.981572Z"
    },
    "papermill": {
     "duration": 0.024506,
     "end_time": "2023-05-21T10:03:30.984792",
     "exception": false,
     "start_time": "2023-05-21T10:03:30.960286",
     "status": "completed"
    },
    "tags": []
   },
   "outputs": [],
   "source": [
    "pen_drive[\"storage\"]=pen_drive[\"storage\"].str.replace('GB','')"
   ]
  },
  {
   "cell_type": "code",
   "execution_count": 11,
   "id": "250fe0a8",
   "metadata": {
    "execution": {
     "iopub.execute_input": "2023-05-21T10:03:31.015124Z",
     "iopub.status.busy": "2023-05-21T10:03:31.014082Z",
     "iopub.status.idle": "2023-05-21T10:03:31.020042Z",
     "shell.execute_reply": "2023-05-21T10:03:31.019073Z"
    },
    "papermill": {
     "duration": 0.023469,
     "end_time": "2023-05-21T10:03:31.022317",
     "exception": false,
     "start_time": "2023-05-21T10:03:30.998848",
     "status": "completed"
    },
    "tags": []
   },
   "outputs": [],
   "source": [
    "pen_drive[\"storage\"]=pen_drive[\"storage\"].str.replace('/','')"
   ]
  },
  {
   "cell_type": "code",
   "execution_count": 12,
   "id": "32fc4ba2",
   "metadata": {
    "execution": {
     "iopub.execute_input": "2023-05-21T10:03:31.051486Z",
     "iopub.status.busy": "2023-05-21T10:03:31.051064Z",
     "iopub.status.idle": "2023-05-21T10:03:31.057334Z",
     "shell.execute_reply": "2023-05-21T10:03:31.056389Z"
    },
    "papermill": {
     "duration": 0.023302,
     "end_time": "2023-05-21T10:03:31.059455",
     "exception": false,
     "start_time": "2023-05-21T10:03:31.036153",
     "status": "completed"
    },
    "tags": []
   },
   "outputs": [],
   "source": [
    "pen_drive[\"storage\"]=pen_drive[\"storage\"].str.replace('-','')"
   ]
  },
  {
   "cell_type": "code",
   "execution_count": 13,
   "id": "da709e30",
   "metadata": {
    "execution": {
     "iopub.execute_input": "2023-05-21T10:03:31.089211Z",
     "iopub.status.busy": "2023-05-21T10:03:31.088821Z",
     "iopub.status.idle": "2023-05-21T10:03:31.094745Z",
     "shell.execute_reply": "2023-05-21T10:03:31.093494Z"
    },
    "papermill": {
     "duration": 0.02331,
     "end_time": "2023-05-21T10:03:31.096922",
     "exception": false,
     "start_time": "2023-05-21T10:03:31.073612",
     "status": "completed"
    },
    "tags": []
   },
   "outputs": [],
   "source": [
    "pen_drive[\"storage\"]=pen_drive[\"storage\"].str.replace(' ','')"
   ]
  },
  {
   "cell_type": "code",
   "execution_count": 14,
   "id": "6681128f",
   "metadata": {
    "execution": {
     "iopub.execute_input": "2023-05-21T10:03:31.126449Z",
     "iopub.status.busy": "2023-05-21T10:03:31.126054Z",
     "iopub.status.idle": "2023-05-21T10:03:31.132556Z",
     "shell.execute_reply": "2023-05-21T10:03:31.131517Z"
    },
    "papermill": {
     "duration": 0.024027,
     "end_time": "2023-05-21T10:03:31.134871",
     "exception": false,
     "start_time": "2023-05-21T10:03:31.110844",
     "status": "completed"
    },
    "tags": []
   },
   "outputs": [
    {
     "name": "stderr",
     "output_type": "stream",
     "text": [
      "/tmp/ipykernel_20/3734084361.py:1: FutureWarning: The default value of regex will change from True to False in a future version. In addition, single character regular expressions will *not* be treated as literal strings when regex=True.\n",
      "  pen_drive[\"storage\"]=pen_drive[\"storage\"].str.replace('(','')\n"
     ]
    }
   ],
   "source": [
    "pen_drive[\"storage\"]=pen_drive[\"storage\"].str.replace('(','')"
   ]
  },
  {
   "cell_type": "code",
   "execution_count": 15,
   "id": "d1e86b4b",
   "metadata": {
    "execution": {
     "iopub.execute_input": "2023-05-21T10:03:31.164231Z",
     "iopub.status.busy": "2023-05-21T10:03:31.163807Z",
     "iopub.status.idle": "2023-05-21T10:03:31.169510Z",
     "shell.execute_reply": "2023-05-21T10:03:31.168608Z"
    },
    "papermill": {
     "duration": 0.022701,
     "end_time": "2023-05-21T10:03:31.171404",
     "exception": false,
     "start_time": "2023-05-21T10:03:31.148703",
     "status": "completed"
    },
    "tags": []
   },
   "outputs": [],
   "source": [
    "pen_drive[\"storage\"]=pen_drive[\"storage\"].str.replace('0','')"
   ]
  },
  {
   "cell_type": "code",
   "execution_count": 16,
   "id": "381763af",
   "metadata": {
    "execution": {
     "iopub.execute_input": "2023-05-21T10:03:31.201127Z",
     "iopub.status.busy": "2023-05-21T10:03:31.200705Z",
     "iopub.status.idle": "2023-05-21T10:03:31.207237Z",
     "shell.execute_reply": "2023-05-21T10:03:31.206152Z"
    },
    "papermill": {
     "duration": 0.024109,
     "end_time": "2023-05-21T10:03:31.209512",
     "exception": false,
     "start_time": "2023-05-21T10:03:31.185403",
     "status": "completed"
    },
    "tags": []
   },
   "outputs": [],
   "source": [
    "pen_drive[\"storage\"]=pen_drive[\"storage\"].str.replace('G','')"
   ]
  },
  {
   "cell_type": "code",
   "execution_count": 17,
   "id": "318e5ba6",
   "metadata": {
    "execution": {
     "iopub.execute_input": "2023-05-21T10:03:31.239293Z",
     "iopub.status.busy": "2023-05-21T10:03:31.238865Z",
     "iopub.status.idle": "2023-05-21T10:03:31.245264Z",
     "shell.execute_reply": "2023-05-21T10:03:31.244185Z"
    },
    "papermill": {
     "duration": 0.024015,
     "end_time": "2023-05-21T10:03:31.247583",
     "exception": false,
     "start_time": "2023-05-21T10:03:31.223568",
     "status": "completed"
    },
    "tags": []
   },
   "outputs": [],
   "source": [
    "pen_drive[\"storage\"]=pen_drive[\"storage\"].str.replace('D','')"
   ]
  },
  {
   "cell_type": "code",
   "execution_count": 18,
   "id": "64f4dc0a",
   "metadata": {
    "execution": {
     "iopub.execute_input": "2023-05-21T10:03:31.277672Z",
     "iopub.status.busy": "2023-05-21T10:03:31.277270Z",
     "iopub.status.idle": "2023-05-21T10:03:31.283274Z",
     "shell.execute_reply": "2023-05-21T10:03:31.282196Z"
    },
    "papermill": {
     "duration": 0.023829,
     "end_time": "2023-05-21T10:03:31.285575",
     "exception": false,
     "start_time": "2023-05-21T10:03:31.261746",
     "status": "completed"
    },
    "tags": []
   },
   "outputs": [],
   "source": [
    "pen_drive[\"storage\"]=pen_drive[\"storage\"].str.replace('A','')"
   ]
  },
  {
   "cell_type": "code",
   "execution_count": 19,
   "id": "4be4120c",
   "metadata": {
    "execution": {
     "iopub.execute_input": "2023-05-21T10:03:31.315726Z",
     "iopub.status.busy": "2023-05-21T10:03:31.315331Z",
     "iopub.status.idle": "2023-05-21T10:03:31.321655Z",
     "shell.execute_reply": "2023-05-21T10:03:31.320594Z"
    },
    "papermill": {
     "duration": 0.024138,
     "end_time": "2023-05-21T10:03:31.323890",
     "exception": false,
     "start_time": "2023-05-21T10:03:31.299752",
     "status": "completed"
    },
    "tags": []
   },
   "outputs": [],
   "source": [
    "pen_drive[\"storage\"]=pen_drive[\"storage\"].str.replace('s','')"
   ]
  },
  {
   "cell_type": "code",
   "execution_count": 20,
   "id": "4ec0cd1f",
   "metadata": {
    "execution": {
     "iopub.execute_input": "2023-05-21T10:03:31.353926Z",
     "iopub.status.busy": "2023-05-21T10:03:31.353497Z",
     "iopub.status.idle": "2023-05-21T10:03:31.359888Z",
     "shell.execute_reply": "2023-05-21T10:03:31.358778Z"
    },
    "papermill": {
     "duration": 0.023955,
     "end_time": "2023-05-21T10:03:31.362019",
     "exception": false,
     "start_time": "2023-05-21T10:03:31.338064",
     "status": "completed"
    },
    "tags": []
   },
   "outputs": [],
   "source": [
    "pen_drive[\"storage\"]=pen_drive[\"storage\"].str.replace('l','')"
   ]
  },
  {
   "cell_type": "code",
   "execution_count": 21,
   "id": "425fb483",
   "metadata": {
    "execution": {
     "iopub.execute_input": "2023-05-21T10:03:31.391802Z",
     "iopub.status.busy": "2023-05-21T10:03:31.391388Z",
     "iopub.status.idle": "2023-05-21T10:03:31.397118Z",
     "shell.execute_reply": "2023-05-21T10:03:31.396034Z"
    },
    "papermill": {
     "duration": 0.023176,
     "end_time": "2023-05-21T10:03:31.399262",
     "exception": false,
     "start_time": "2023-05-21T10:03:31.376086",
     "status": "completed"
    },
    "tags": []
   },
   "outputs": [],
   "source": [
    "pen_drive[\"storage\"]=pen_drive[\"storage\"].astype(int)"
   ]
  },
  {
   "cell_type": "code",
   "execution_count": 22,
   "id": "0e5ea22e",
   "metadata": {
    "execution": {
     "iopub.execute_input": "2023-05-21T10:03:31.429257Z",
     "iopub.status.busy": "2023-05-21T10:03:31.428759Z",
     "iopub.status.idle": "2023-05-21T10:03:31.438364Z",
     "shell.execute_reply": "2023-05-21T10:03:31.437158Z"
    },
    "papermill": {
     "duration": 0.027198,
     "end_time": "2023-05-21T10:03:31.440612",
     "exception": false,
     "start_time": "2023-05-21T10:03:31.413414",
     "status": "completed"
    },
    "tags": []
   },
   "outputs": [
    {
     "data": {
      "text/plain": [
       "array([ 64,  16,  28,  32,  56,  12,   4,   8, 128])"
      ]
     },
     "execution_count": 22,
     "metadata": {},
     "output_type": "execute_result"
    }
   ],
   "source": [
    "pen_drive[\"storage\"].unique()"
   ]
  },
  {
   "cell_type": "code",
   "execution_count": 23,
   "id": "9c93a882",
   "metadata": {
    "execution": {
     "iopub.execute_input": "2023-05-21T10:03:31.471000Z",
     "iopub.status.busy": "2023-05-21T10:03:31.470594Z",
     "iopub.status.idle": "2023-05-21T10:03:31.479299Z",
     "shell.execute_reply": "2023-05-21T10:03:31.478185Z"
    },
    "papermill": {
     "duration": 0.026272,
     "end_time": "2023-05-21T10:03:31.481363",
     "exception": false,
     "start_time": "2023-05-21T10:03:31.455091",
     "status": "completed"
    },
    "tags": []
   },
   "outputs": [
    {
     "data": {
      "text/plain": [
       "array(['V22OW', 'SDDDC3-064G-I35', 'Cruzer', 'SDDDC2-128G-I35', 'Dual',\n",
       "       'V215B', 'Cruze', 'v220w', 'Ultra', 'SDCZ48-064G-135/I35',\n",
       "       'SDDDC4-128G-I35', 'SDDD3-032G-I35GW', 'mm-usb32gb-02p', 'V236w',\n",
       "       'SDDDC4-064G-I35', '32', 'SDDDC4-I35', 'OTG', 'V215W',\n",
       "       'SDDDC2-064G-I35', 'v236w', 'USB', 'SDDD3-064G-I35GW', 'FD236W',\n",
       "       'SDCZ48-016G-135', 'SDCZ71-064G-I35', 'V22oWx', 'SDCZ48-128G-I35',\n",
       "       'SDCZ50-016G-I35', 'SDDDC3-064G-I35PC', 'v150w', '236',\n",
       "       'JumpDrive', 'SDCZ71-016G-I35', '64GB', 'Power',\n",
       "       'SDCZ430-032G-I35', 'SDDDC3-128G-I35PC', 'SDDDC4-032G-I35',\n",
       "       'Pendrive', 'x796w', 'V222W', 'SDDDC2-032G-I35', '32GB', 'DUO',\n",
       "       'V150W', 'SDDDC4-128', 'usb', 'iXpand', 'SDCZ430-064G-I35',\n",
       "       'flash', 'KRGOLD', 'Silver', 'SDDDC3-032G-I35', 'SDCZ73-032G-I35',\n",
       "       'x220w', 'Pen', 'CZ48', 'SDDD3-128G-I35', 'DTX/64GB', 'V236W',\n",
       "       '16+32', 'SDDDC3-256G-I35PC', 'v207w', 'HPFDX5600C-32',\n",
       "       'SDDDC2-128', 'x306w', 'DTX/64', 'HPFD718W-32', 'Pollex',\n",
       "       'SDDDC3-256G-I35', 'Curzer', 'V220q', 'X796W', '796W', 'V22Ox',\n",
       "       'V165w', 'PDO44', 'SDCZ880-128G-G46', 'CRUZER', 'SDDDC3-032G',\n",
       "       'X796w', '236W-USB', 'HPFDX5600C', 'Cherry', '2.0',\n",
       "       'SDDDC2-256G-I35', 'UP300', 'SDCZ48-128G', 'PFD32GTBAT4-BR20',\n",
       "       '128GB', 'x770w', 'DTSWIVL/32BIN', 'SDCZ73-064', 'MM-USB064GB-33P',\n",
       "       'v165w', 'DTSWIVL/32GBIN', 'DataTraveler', 'SDDDC3',\n",
       "       'SDCZ73-064G-I35', 'HPFD760L-32', 'SDDD3-128GB', 'Ammo', 'GERMAN',\n",
       "       'HPFD760L-64', 'LAMA', 'CZ430', 'SDDD3-128', 'SDDD3-64G-I35GW',\n",
       "       '64', 'HPFD5000M-128', 'HPFD307W-32', 'C273', '16GB', 'X765W',\n",
       "       'FD770W-64', 'SAN-DSIK', 'JUMPDRIVE', 'ZIPX', 'Key', 'PRODUCT',\n",
       "       '8gb', 'SDDD3-64GB', 'x5600C', 'R220V', 'TECH', 'x5600B', 'curzer',\n",
       "       '220W', 'MM-USB128GB-33P', 'Stylish', 'metal', 'Data', 'Wooden',\n",
       "       'KRCOPER', 'DTX', 'FD222W-16', 'MM-USB032GB-765W', '16gb', 'v150W',\n",
       "       'Nitro', 'SDDDC4-128G', 'Red', 'V-165', 'DUAL', 'PFD770W-32',\n",
       "       'Minions', 'V220m', '3.1', 'HR', 'U202', 'PD32-2.0', 'TS64GJF790K',\n",
       "       '64gb', 'SDDD3-256G-G46', 'High', 'Flash', 'SDDDC2-032G', 'DTIG4',\n",
       "       'V220', 'DTX/128', 'Zodiac', 'TEENY', 'ENSTORE', 'M25', 'Racing',\n",
       "       'LU401S016GG4', 'SDCZ50-032G-I35', 'Pooh', 'PD8', 'Lipstick',\n",
       "       'Super', 'DTIG4/128GB', 'SDDD3_064G_I35', 'Pendant', 'v206w',\n",
       "       'MM-USB032GB-33P', 'Fire', 'Plus', 'Cartoon', 'MM-USB016GB-11P',\n",
       "       'LU202W016GG4', 'Piggi', 'Star', 'New', 'KRSILVER', 'Music', 'Car',\n",
       "       'PKT447', 'CORDIAL', 'DTX/32', 'Thumb', 'black', 'ENSTORE+DRIVE',\n",
       "       'MM-USB016GB-33P', '64GB|2.0', 'Drivers', 'Cat', 'Hello', 'PD64',\n",
       "       'D35C', 'Microphone', 'M&M', 'Metal', 'V236V', 'SDDD3-032G-GW',\n",
       "       'Credit', 'XE-4533', 'PD32', 'Green', 'Ice', 'music', 'usb2.0',\n",
       "       'Lock', 'Smurfette', 'Football', 'pendrive', 'SD750-064G-i35',\n",
       "       'avenger', 'cruzer', 'Five', 'Iron', 'PKT867', 'UV', 'Nobita',\n",
       "       'TD-BLACK', 'Cute', 'Kungfu', 'PKT1225', 'DTX/32GB', 'Cyclops',\n",
       "       'PFD64GATT4-BR20', 'Kitty', 'High-Speed', 'Superhero', 'Plain',\n",
       "       'Handbag', 'PKT699', 'PKT1224', 'TD-8GB', 'Ghost', 'EXODIA',\n",
       "       'SR4GRDPOLLEX', 'Ship', 'Classic', 'Coper', '4K', 'Cruser', '16',\n",
       "       'Yellow', 'Spaider', 'METAL', 'Damascus', 'V152W', 'sr16grdpollex',\n",
       "       'Gift', 'PKT1134', 'Cruzr', 'UO3', 'ZipX', 'TD', 'PDS41', 'SD32GB',\n",
       "       'star', 'SDCZ50-032G-I36', 'Small', 'PDT161', 'Rubber', 'Combo',\n",
       "       'DTX/32GBIN', '8GB', 'P', 'Gold', 'PENDRIVE', 'V232', 'PKT865',\n",
       "       'PD64-2.0', 'PKT1132', 'Heart', 'PKT606', 'Doraemon', 'PKT457',\n",
       "       'v215b', 'UP200', 'PDT630', 'PDO15', 'PFMM2032-BR20', 'Blue',\n",
       "       'PKT635', 'PDS43', 'Piano', 'Ground', 'SE', 'Bike', 'PKT1138',\n",
       "       'PKT1118', 'FLASH', 'Bar', 'SDCZ48-016G-I35', 'PKT821', 'CZ50',\n",
       "       'ENTERPRISES', 'PKT672', 'PDT746', 'PKT677', 'PDS42',\n",
       "       'Enterprises', 'PKT866', 'ultra', 'PKT817', 'Handgrenade',\n",
       "       'PKT840', 'PKT540', 'Steel', 'dual', 'PKT665', 'SE.13', 'CAPTAIN',\n",
       "       'Simmteronics16', 'sandsik', 'Type', 'Brown', 'Strawberry',\n",
       "       'Novelty', 'SDDD3', 'Cruzar', '('], dtype=object)"
      ]
     },
     "execution_count": 23,
     "metadata": {},
     "output_type": "execute_result"
    }
   ],
   "source": [
    "pen_drive[\"Model_name\"].unique()"
   ]
  },
  {
   "cell_type": "code",
   "execution_count": 24,
   "id": "bf65771c",
   "metadata": {
    "execution": {
     "iopub.execute_input": "2023-05-21T10:03:31.512883Z",
     "iopub.status.busy": "2023-05-21T10:03:31.511974Z",
     "iopub.status.idle": "2023-05-21T10:03:31.518445Z",
     "shell.execute_reply": "2023-05-21T10:03:31.517380Z"
    },
    "papermill": {
     "duration": 0.024902,
     "end_time": "2023-05-21T10:03:31.520884",
     "exception": false,
     "start_time": "2023-05-21T10:03:31.495982",
     "status": "completed"
    },
    "tags": []
   },
   "outputs": [],
   "source": [
    "pen_drive=pen_drive[pen_drive['drive_type']!=\"Nan\"]"
   ]
  },
  {
   "cell_type": "code",
   "execution_count": 25,
   "id": "db2cd3eb",
   "metadata": {
    "execution": {
     "iopub.execute_input": "2023-05-21T10:03:31.551759Z",
     "iopub.status.busy": "2023-05-21T10:03:31.551380Z",
     "iopub.status.idle": "2023-05-21T10:03:31.557411Z",
     "shell.execute_reply": "2023-05-21T10:03:31.556399Z"
    },
    "papermill": {
     "duration": 0.024179,
     "end_time": "2023-05-21T10:03:31.559833",
     "exception": false,
     "start_time": "2023-05-21T10:03:31.535654",
     "status": "completed"
    },
    "tags": []
   },
   "outputs": [],
   "source": [
    "pen_drive=pen_drive[pen_drive['drive_type']!=\" Pendrive\"]"
   ]
  },
  {
   "cell_type": "code",
   "execution_count": 26,
   "id": "6f6f3f46",
   "metadata": {
    "execution": {
     "iopub.execute_input": "2023-05-21T10:03:31.590916Z",
     "iopub.status.busy": "2023-05-21T10:03:31.590078Z",
     "iopub.status.idle": "2023-05-21T10:03:31.597458Z",
     "shell.execute_reply": "2023-05-21T10:03:31.596458Z"
    },
    "papermill": {
     "duration": 0.025388,
     "end_time": "2023-05-21T10:03:31.599722",
     "exception": false,
     "start_time": "2023-05-21T10:03:31.574334",
     "status": "completed"
    },
    "tags": []
   },
   "outputs": [
    {
     "data": {
      "text/plain": [
       "array(['Pen Drive', 'OTG Drive'], dtype=object)"
      ]
     },
     "execution_count": 26,
     "metadata": {},
     "output_type": "execute_result"
    }
   ],
   "source": [
    "pen_drive[\"drive_type\"].unique()"
   ]
  },
  {
   "cell_type": "code",
   "execution_count": 27,
   "id": "4cba27ff",
   "metadata": {
    "execution": {
     "iopub.execute_input": "2023-05-21T10:03:31.630711Z",
     "iopub.status.busy": "2023-05-21T10:03:31.630311Z",
     "iopub.status.idle": "2023-05-21T10:03:31.637814Z",
     "shell.execute_reply": "2023-05-21T10:03:31.637018Z"
    },
    "papermill": {
     "duration": 0.02543,
     "end_time": "2023-05-21T10:03:31.639884",
     "exception": false,
     "start_time": "2023-05-21T10:03:31.614454",
     "status": "completed"
    },
    "tags": []
   },
   "outputs": [
    {
     "data": {
      "text/plain": [
       "array(['₹459', '₹729', '₹1199', '₹619', '₹377', '₹439', '₹920', '₹299',\n",
       "       '₹1149', '₹2049', '₹489', '₹879', '₹519', '₹1329', '₹369', '₹1919',\n",
       "       '₹599', '₹479', '₹959', '₹895', '₹375', '₹380', '₹919', '₹399',\n",
       "       '₹2239', '₹783', '₹3889', '₹679', '₹359', '₹499', '₹779', '₹1749',\n",
       "       '₹389', '₹339', '₹579', '₹1588', '₹575', '₹649', '₹349', '₹474',\n",
       "       '₹1099', '₹603', '₹448', '₹2149', '₹1100', '₹1068', '₹531', '₹493',\n",
       "       '₹440', '₹1690', '₹998', '₹809', '₹876', '₹1705', '₹669', '₹699',\n",
       "       '₹470', '₹759', '₹1599', '₹458', '₹3975', '₹539', '₹445', '₹550',\n",
       "       '₹1040', '₹715', '₹610', '₹460', '₹3199', '₹1155', '₹1341', '₹795',\n",
       "       '₹454', '₹1500', '₹1795', '₹2349', '₹2949', '₹802', '₹2029',\n",
       "       '₹639', '₹842', '₹1750', '₹366', '₹899', '₹689', '₹569', '₹395',\n",
       "       '₹2510', '₹430', '₹787', '₹450', '₹1699', '₹828', '₹540', '₹449',\n",
       "       '₹688', '₹436', '₹597', '₹4089', '₹664', '₹850', '₹755', '₹945',\n",
       "       '₹665', '₹1180', '₹6499', '₹799', '₹1345', '₹692', '₹2695',\n",
       "       '₹1360', '₹650', '₹1249', '₹543', '₹718', '₹739', '₹498', '₹648',\n",
       "       '₹549', '₹749', '₹897', '₹815', '₹407', '₹785', '₹1291', '₹557',\n",
       "       '₹2999', '₹949', '₹812', '₹624', '₹1044', '₹1327', '₹2302',\n",
       "       '₹1280', '₹472', '₹818', '₹584', '₹1615', '₹524', '₹4899', '₹661',\n",
       "       '₹634', '₹480', '₹536', '₹1195', '₹886', '₹768', '₹820', '₹999',\n",
       "       '₹593', '₹1083', '₹808', '₹532', '₹455', '₹469', '₹1808', '₹555',\n",
       "       '₹775', '₹534', '₹568', '₹728', '₹388', '₹844', '₹745', '₹790',\n",
       "       '₹565', '₹486', '₹559', '₹1701', '₹675', '₹592', '₹622', '₹709',\n",
       "       '₹635', '₹670', '₹979', '₹471', '₹682', '₹960', '₹1800', '₹535',\n",
       "       '₹1899', '₹1420', '₹2375', '₹400', '₹1424', '₹419', '₹464', '₹341',\n",
       "       '₹379', '₹680', '₹1300', '₹846', '₹495', '₹926', '₹901', '₹936',\n",
       "       '₹1625', '₹1549', '₹835', '₹598', '₹730', '₹605', '₹1445', '₹490',\n",
       "       '₹382', '₹421', '₹427', '₹1399', '₹1000', '₹525', '₹580', '₹1519',\n",
       "       '₹794', '₹810', '₹800', '₹655', '₹1450', '₹425', '₹384', '₹760',\n",
       "       '₹1440', '₹521', '₹625', '₹695', '₹830', '₹520', '₹405', '₹428',\n",
       "       '₹681', '₹720', '₹869', '₹889', '₹997', '₹1779', '₹641', '₹805',\n",
       "       '₹404', '₹510', '₹572', '₹1049', '₹435', 'Nan', '₹825', '₹645',\n",
       "       '₹484', '₹698', '₹1325', '₹719', '₹1158', '₹2099', '₹1252', '₹530',\n",
       "       '₹1200', '₹500', '₹410', '₹595', '₹1439', '₹900', '₹1742', '₹1759',\n",
       "       '₹1116', '₹626', '₹725', '₹630', '₹570', '₹700', '₹1299', '₹571',\n",
       "       '₹1376'], dtype=object)"
      ]
     },
     "execution_count": 27,
     "metadata": {},
     "output_type": "execute_result"
    }
   ],
   "source": [
    "pen_drive[\"price\"].unique()"
   ]
  },
  {
   "cell_type": "code",
   "execution_count": 28,
   "id": "7f214187",
   "metadata": {
    "execution": {
     "iopub.execute_input": "2023-05-21T10:03:31.671098Z",
     "iopub.status.busy": "2023-05-21T10:03:31.670693Z",
     "iopub.status.idle": "2023-05-21T10:03:31.676598Z",
     "shell.execute_reply": "2023-05-21T10:03:31.675814Z"
    },
    "papermill": {
     "duration": 0.024055,
     "end_time": "2023-05-21T10:03:31.678658",
     "exception": false,
     "start_time": "2023-05-21T10:03:31.654603",
     "status": "completed"
    },
    "tags": []
   },
   "outputs": [],
   "source": [
    "pen_drive[\"price\"]=pen_drive[\"price\"].str.replace('₹','')"
   ]
  },
  {
   "cell_type": "code",
   "execution_count": 29,
   "id": "ca045977",
   "metadata": {
    "execution": {
     "iopub.execute_input": "2023-05-21T10:03:31.709726Z",
     "iopub.status.busy": "2023-05-21T10:03:31.709327Z",
     "iopub.status.idle": "2023-05-21T10:03:31.715908Z",
     "shell.execute_reply": "2023-05-21T10:03:31.714955Z"
    },
    "papermill": {
     "duration": 0.024665,
     "end_time": "2023-05-21T10:03:31.718033",
     "exception": false,
     "start_time": "2023-05-21T10:03:31.693368",
     "status": "completed"
    },
    "tags": []
   },
   "outputs": [],
   "source": [
    "pen_drive=pen_drive[pen_drive['price']!=\"Nan\"]"
   ]
  },
  {
   "cell_type": "code",
   "execution_count": 30,
   "id": "cdd51b71",
   "metadata": {
    "execution": {
     "iopub.execute_input": "2023-05-21T10:03:31.750311Z",
     "iopub.status.busy": "2023-05-21T10:03:31.749935Z",
     "iopub.status.idle": "2023-05-21T10:03:31.755452Z",
     "shell.execute_reply": "2023-05-21T10:03:31.754543Z"
    },
    "papermill": {
     "duration": 0.023972,
     "end_time": "2023-05-21T10:03:31.757448",
     "exception": false,
     "start_time": "2023-05-21T10:03:31.733476",
     "status": "completed"
    },
    "tags": []
   },
   "outputs": [],
   "source": [
    "pen_drive[\"price\"]=pen_drive[\"price\"].astype(int)"
   ]
  },
  {
   "cell_type": "code",
   "execution_count": 31,
   "id": "70c85cee",
   "metadata": {
    "execution": {
     "iopub.execute_input": "2023-05-21T10:03:31.788343Z",
     "iopub.status.busy": "2023-05-21T10:03:31.787654Z",
     "iopub.status.idle": "2023-05-21T10:03:31.795031Z",
     "shell.execute_reply": "2023-05-21T10:03:31.794059Z"
    },
    "papermill": {
     "duration": 0.025054,
     "end_time": "2023-05-21T10:03:31.797123",
     "exception": false,
     "start_time": "2023-05-21T10:03:31.772069",
     "status": "completed"
    },
    "tags": []
   },
   "outputs": [
    {
     "data": {
      "text/plain": [
       "array([3.8, 4.2, 4.3, 4. , 4.1, 3.9, 4.4, 0. , 3.5, 4.6, 5. , 4.5, 3.7,\n",
       "       4.7, 3. , 3.6, 3.2, 4.9, 4.8, 3.3, 3.4, 1. ])"
      ]
     },
     "execution_count": 31,
     "metadata": {},
     "output_type": "execute_result"
    }
   ],
   "source": [
    "pen_drive[\"rating\"].unique()"
   ]
  },
  {
   "cell_type": "code",
   "execution_count": 32,
   "id": "3b3dab82",
   "metadata": {
    "execution": {
     "iopub.execute_input": "2023-05-21T10:03:31.828648Z",
     "iopub.status.busy": "2023-05-21T10:03:31.827895Z",
     "iopub.status.idle": "2023-05-21T10:03:31.844614Z",
     "shell.execute_reply": "2023-05-21T10:03:31.843748Z"
    },
    "papermill": {
     "duration": 0.034876,
     "end_time": "2023-05-21T10:03:31.846686",
     "exception": false,
     "start_time": "2023-05-21T10:03:31.811810",
     "status": "completed"
    },
    "tags": []
   },
   "outputs": [
    {
     "data": {
      "text/html": [
       "<div>\n",
       "<style scoped>\n",
       "    .dataframe tbody tr th:only-of-type {\n",
       "        vertical-align: middle;\n",
       "    }\n",
       "\n",
       "    .dataframe tbody tr th {\n",
       "        vertical-align: top;\n",
       "    }\n",
       "\n",
       "    .dataframe thead th {\n",
       "        text-align: right;\n",
       "    }\n",
       "</style>\n",
       "<table border=\"1\" class=\"dataframe\">\n",
       "  <thead>\n",
       "    <tr style=\"text-align: right;\">\n",
       "      <th></th>\n",
       "      <th>Product_name</th>\n",
       "      <th>Model_name</th>\n",
       "      <th>storage</th>\n",
       "      <th>drive_type</th>\n",
       "      <th>rating</th>\n",
       "      <th>reviews</th>\n",
       "      <th>price</th>\n",
       "    </tr>\n",
       "  </thead>\n",
       "  <tbody>\n",
       "    <tr>\n",
       "      <th>0</th>\n",
       "      <td>HP</td>\n",
       "      <td>V22OW</td>\n",
       "      <td>64</td>\n",
       "      <td>Pen Drive</td>\n",
       "      <td>3.8</td>\n",
       "      <td>20687</td>\n",
       "      <td>459</td>\n",
       "    </tr>\n",
       "    <tr>\n",
       "      <th>1</th>\n",
       "      <td>HP</td>\n",
       "      <td>V22OW</td>\n",
       "      <td>64</td>\n",
       "      <td>Pen Drive</td>\n",
       "      <td>3.8</td>\n",
       "      <td>8928</td>\n",
       "      <td>459</td>\n",
       "    </tr>\n",
       "    <tr>\n",
       "      <th>2</th>\n",
       "      <td>SanDisk</td>\n",
       "      <td>SDDDC3-064G-I35</td>\n",
       "      <td>64</td>\n",
       "      <td>OTG Drive</td>\n",
       "      <td>4.2</td>\n",
       "      <td>29359</td>\n",
       "      <td>729</td>\n",
       "    </tr>\n",
       "    <tr>\n",
       "      <th>4</th>\n",
       "      <td>SanDisk</td>\n",
       "      <td>SDDDC2-128G-I35</td>\n",
       "      <td>28</td>\n",
       "      <td>OTG Drive</td>\n",
       "      <td>4.3</td>\n",
       "      <td>21816</td>\n",
       "      <td>1199</td>\n",
       "    </tr>\n",
       "    <tr>\n",
       "      <th>5</th>\n",
       "      <td>SanDisk</td>\n",
       "      <td>Dual</td>\n",
       "      <td>32</td>\n",
       "      <td>OTG Drive</td>\n",
       "      <td>4.3</td>\n",
       "      <td>12910</td>\n",
       "      <td>619</td>\n",
       "    </tr>\n",
       "    <tr>\n",
       "      <th>...</th>\n",
       "      <td>...</td>\n",
       "      <td>...</td>\n",
       "      <td>...</td>\n",
       "      <td>...</td>\n",
       "      <td>...</td>\n",
       "      <td>...</td>\n",
       "      <td>...</td>\n",
       "    </tr>\n",
       "    <tr>\n",
       "      <th>1067</th>\n",
       "      <td>SanDisk</td>\n",
       "      <td>SDCZ73-032G-I35</td>\n",
       "      <td>32</td>\n",
       "      <td>Pen Drive</td>\n",
       "      <td>4.8</td>\n",
       "      <td>6</td>\n",
       "      <td>625</td>\n",
       "    </tr>\n",
       "    <tr>\n",
       "      <th>1070</th>\n",
       "      <td>wnd</td>\n",
       "      <td>Simmteronics16</td>\n",
       "      <td>16</td>\n",
       "      <td>Pen Drive</td>\n",
       "      <td>0.0</td>\n",
       "      <td>0</td>\n",
       "      <td>399</td>\n",
       "    </tr>\n",
       "    <tr>\n",
       "      <th>1071</th>\n",
       "      <td>SanDisk</td>\n",
       "      <td>flash</td>\n",
       "      <td>16</td>\n",
       "      <td>Pen Drive</td>\n",
       "      <td>4.4</td>\n",
       "      <td>36</td>\n",
       "      <td>520</td>\n",
       "    </tr>\n",
       "    <tr>\n",
       "      <th>1073</th>\n",
       "      <td>SanDisk</td>\n",
       "      <td>SDDD3</td>\n",
       "      <td>32</td>\n",
       "      <td>OTG Drive</td>\n",
       "      <td>3.8</td>\n",
       "      <td>4</td>\n",
       "      <td>603</td>\n",
       "    </tr>\n",
       "    <tr>\n",
       "      <th>1074</th>\n",
       "      <td>SanDisk</td>\n",
       "      <td>Cruzar</td>\n",
       "      <td>16</td>\n",
       "      <td>Pen Drive</td>\n",
       "      <td>3.9</td>\n",
       "      <td>14</td>\n",
       "      <td>499</td>\n",
       "    </tr>\n",
       "  </tbody>\n",
       "</table>\n",
       "<p>674 rows × 7 columns</p>\n",
       "</div>"
      ],
      "text/plain": [
       "     Product_name       Model_name  storage drive_type  rating  reviews  price\n",
       "0              HP            V22OW       64  Pen Drive     3.8    20687    459\n",
       "1              HP            V22OW       64  Pen Drive     3.8     8928    459\n",
       "2         SanDisk  SDDDC3-064G-I35       64  OTG Drive     4.2    29359    729\n",
       "4         SanDisk  SDDDC2-128G-I35       28  OTG Drive     4.3    21816   1199\n",
       "5         SanDisk             Dual       32  OTG Drive     4.3    12910    619\n",
       "...           ...              ...      ...        ...     ...      ...    ...\n",
       "1067      SanDisk  SDCZ73-032G-I35       32  Pen Drive     4.8        6    625\n",
       "1070          wnd   Simmteronics16       16  Pen Drive     0.0        0    399\n",
       "1071      SanDisk            flash       16  Pen Drive     4.4       36    520\n",
       "1073      SanDisk            SDDD3       32  OTG Drive     3.8        4    603\n",
       "1074      SanDisk           Cruzar       16  Pen Drive     3.9       14    499\n",
       "\n",
       "[674 rows x 7 columns]"
      ]
     },
     "execution_count": 32,
     "metadata": {},
     "output_type": "execute_result"
    }
   ],
   "source": [
    "pen_drive"
   ]
  },
  {
   "cell_type": "code",
   "execution_count": 33,
   "id": "45195ff1",
   "metadata": {
    "execution": {
     "iopub.execute_input": "2023-05-21T10:03:31.878797Z",
     "iopub.status.busy": "2023-05-21T10:03:31.878183Z",
     "iopub.status.idle": "2023-05-21T10:03:31.889598Z",
     "shell.execute_reply": "2023-05-21T10:03:31.888780Z"
    },
    "papermill": {
     "duration": 0.030001,
     "end_time": "2023-05-21T10:03:31.891773",
     "exception": false,
     "start_time": "2023-05-21T10:03:31.861772",
     "status": "completed"
    },
    "tags": []
   },
   "outputs": [
    {
     "name": "stdout",
     "output_type": "stream",
     "text": [
      "<class 'pandas.core.frame.DataFrame'>\n",
      "Int64Index: 674 entries, 0 to 1074\n",
      "Data columns (total 7 columns):\n",
      " #   Column        Non-Null Count  Dtype  \n",
      "---  ------        --------------  -----  \n",
      " 0   Product_name  674 non-null    object \n",
      " 1   Model_name    674 non-null    object \n",
      " 2   storage       674 non-null    int64  \n",
      " 3   drive_type    674 non-null    object \n",
      " 4   rating        674 non-null    float64\n",
      " 5   reviews       674 non-null    int64  \n",
      " 6   price         674 non-null    int64  \n",
      "dtypes: float64(1), int64(3), object(3)\n",
      "memory usage: 42.1+ KB\n"
     ]
    }
   ],
   "source": [
    "pen_drive.info()"
   ]
  },
  {
   "cell_type": "code",
   "execution_count": 34,
   "id": "c2fd9b8c",
   "metadata": {
    "execution": {
     "iopub.execute_input": "2023-05-21T10:03:31.924876Z",
     "iopub.status.busy": "2023-05-21T10:03:31.924231Z",
     "iopub.status.idle": "2023-05-21T10:03:31.948096Z",
     "shell.execute_reply": "2023-05-21T10:03:31.947038Z"
    },
    "papermill": {
     "duration": 0.043501,
     "end_time": "2023-05-21T10:03:31.950498",
     "exception": false,
     "start_time": "2023-05-21T10:03:31.906997",
     "status": "completed"
    },
    "tags": []
   },
   "outputs": [
    {
     "data": {
      "text/html": [
       "<div>\n",
       "<style scoped>\n",
       "    .dataframe tbody tr th:only-of-type {\n",
       "        vertical-align: middle;\n",
       "    }\n",
       "\n",
       "    .dataframe tbody tr th {\n",
       "        vertical-align: top;\n",
       "    }\n",
       "\n",
       "    .dataframe thead th {\n",
       "        text-align: right;\n",
       "    }\n",
       "</style>\n",
       "<table border=\"1\" class=\"dataframe\">\n",
       "  <thead>\n",
       "    <tr style=\"text-align: right;\">\n",
       "      <th></th>\n",
       "      <th>storage</th>\n",
       "      <th>rating</th>\n",
       "      <th>reviews</th>\n",
       "      <th>price</th>\n",
       "    </tr>\n",
       "  </thead>\n",
       "  <tbody>\n",
       "    <tr>\n",
       "      <th>count</th>\n",
       "      <td>674.000000</td>\n",
       "      <td>674.000000</td>\n",
       "      <td>674.000000</td>\n",
       "      <td>674.000000</td>\n",
       "    </tr>\n",
       "    <tr>\n",
       "      <th>mean</th>\n",
       "      <td>37.252226</td>\n",
       "      <td>2.862315</td>\n",
       "      <td>5734.959941</td>\n",
       "      <td>817.802671</td>\n",
       "    </tr>\n",
       "    <tr>\n",
       "      <th>std</th>\n",
       "      <td>21.451044</td>\n",
       "      <td>1.907848</td>\n",
       "      <td>25899.142035</td>\n",
       "      <td>587.498116</td>\n",
       "    </tr>\n",
       "    <tr>\n",
       "      <th>min</th>\n",
       "      <td>4.000000</td>\n",
       "      <td>0.000000</td>\n",
       "      <td>0.000000</td>\n",
       "      <td>299.000000</td>\n",
       "    </tr>\n",
       "    <tr>\n",
       "      <th>25%</th>\n",
       "      <td>28.000000</td>\n",
       "      <td>0.000000</td>\n",
       "      <td>0.000000</td>\n",
       "      <td>490.750000</td>\n",
       "    </tr>\n",
       "    <tr>\n",
       "      <th>50%</th>\n",
       "      <td>32.000000</td>\n",
       "      <td>3.900000</td>\n",
       "      <td>19.500000</td>\n",
       "      <td>658.000000</td>\n",
       "    </tr>\n",
       "    <tr>\n",
       "      <th>75%</th>\n",
       "      <td>64.000000</td>\n",
       "      <td>4.200000</td>\n",
       "      <td>345.000000</td>\n",
       "      <td>889.000000</td>\n",
       "    </tr>\n",
       "    <tr>\n",
       "      <th>max</th>\n",
       "      <td>128.000000</td>\n",
       "      <td>5.000000</td>\n",
       "      <td>284590.000000</td>\n",
       "      <td>6499.000000</td>\n",
       "    </tr>\n",
       "  </tbody>\n",
       "</table>\n",
       "</div>"
      ],
      "text/plain": [
       "          storage      rating        reviews        price\n",
       "count  674.000000  674.000000     674.000000   674.000000\n",
       "mean    37.252226    2.862315    5734.959941   817.802671\n",
       "std     21.451044    1.907848   25899.142035   587.498116\n",
       "min      4.000000    0.000000       0.000000   299.000000\n",
       "25%     28.000000    0.000000       0.000000   490.750000\n",
       "50%     32.000000    3.900000      19.500000   658.000000\n",
       "75%     64.000000    4.200000     345.000000   889.000000\n",
       "max    128.000000    5.000000  284590.000000  6499.000000"
      ]
     },
     "execution_count": 34,
     "metadata": {},
     "output_type": "execute_result"
    }
   ],
   "source": [
    "pen_drive.describe()"
   ]
  },
  {
   "cell_type": "code",
   "execution_count": 35,
   "id": "87911e3e",
   "metadata": {
    "execution": {
     "iopub.execute_input": "2023-05-21T10:03:31.982539Z",
     "iopub.status.busy": "2023-05-21T10:03:31.982135Z",
     "iopub.status.idle": "2023-05-21T10:03:31.988063Z",
     "shell.execute_reply": "2023-05-21T10:03:31.987320Z"
    },
    "papermill": {
     "duration": 0.024493,
     "end_time": "2023-05-21T10:03:31.990303",
     "exception": false,
     "start_time": "2023-05-21T10:03:31.965810",
     "status": "completed"
    },
    "tags": []
   },
   "outputs": [],
   "source": [
    "pen_drive=pen_drive[pen_drive['price']<4000]"
   ]
  },
  {
   "cell_type": "code",
   "execution_count": 36,
   "id": "03bd2f04",
   "metadata": {
    "execution": {
     "iopub.execute_input": "2023-05-21T10:03:32.022901Z",
     "iopub.status.busy": "2023-05-21T10:03:32.022094Z",
     "iopub.status.idle": "2023-05-21T10:03:32.027052Z",
     "shell.execute_reply": "2023-05-21T10:03:32.026337Z"
    },
    "papermill": {
     "duration": 0.023664,
     "end_time": "2023-05-21T10:03:32.029215",
     "exception": false,
     "start_time": "2023-05-21T10:03:32.005551",
     "status": "completed"
    },
    "tags": []
   },
   "outputs": [],
   "source": [
    "pen_drive=pen_drive.reset_index(drop=True)"
   ]
  },
  {
   "cell_type": "code",
   "execution_count": 37,
   "id": "4042ff81",
   "metadata": {
    "execution": {
     "iopub.execute_input": "2023-05-21T10:03:32.061560Z",
     "iopub.status.busy": "2023-05-21T10:03:32.060792Z",
     "iopub.status.idle": "2023-05-21T10:03:32.073512Z",
     "shell.execute_reply": "2023-05-21T10:03:32.072561Z"
    },
    "papermill": {
     "duration": 0.031482,
     "end_time": "2023-05-21T10:03:32.075781",
     "exception": false,
     "start_time": "2023-05-21T10:03:32.044299",
     "status": "completed"
    },
    "tags": []
   },
   "outputs": [],
   "source": [
    "pen_drive.to_csv('2cleaned_pendrive.csv')"
   ]
  },
  {
   "cell_type": "code",
   "execution_count": 38,
   "id": "26240757",
   "metadata": {
    "execution": {
     "iopub.execute_input": "2023-05-21T10:03:32.108548Z",
     "iopub.status.busy": "2023-05-21T10:03:32.107927Z",
     "iopub.status.idle": "2023-05-21T10:03:32.112266Z",
     "shell.execute_reply": "2023-05-21T10:03:32.111393Z"
    },
    "papermill": {
     "duration": 0.023237,
     "end_time": "2023-05-21T10:03:32.114399",
     "exception": false,
     "start_time": "2023-05-21T10:03:32.091162",
     "status": "completed"
    },
    "tags": []
   },
   "outputs": [],
   "source": [
    "#deleting unneccesary columns"
   ]
  },
  {
   "cell_type": "code",
   "execution_count": 39,
   "id": "855e96e4",
   "metadata": {
    "execution": {
     "iopub.execute_input": "2023-05-21T10:03:32.146466Z",
     "iopub.status.busy": "2023-05-21T10:03:32.145780Z",
     "iopub.status.idle": "2023-05-21T10:03:32.151887Z",
     "shell.execute_reply": "2023-05-21T10:03:32.150837Z"
    },
    "papermill": {
     "duration": 0.024306,
     "end_time": "2023-05-21T10:03:32.153932",
     "exception": false,
     "start_time": "2023-05-21T10:03:32.129626",
     "status": "completed"
    },
    "tags": []
   },
   "outputs": [],
   "source": [
    "pen_drive.drop(['reviews','Model_name'],axis=1,inplace=True)"
   ]
  },
  {
   "cell_type": "code",
   "execution_count": 40,
   "id": "af241465",
   "metadata": {
    "execution": {
     "iopub.execute_input": "2023-05-21T10:03:32.186336Z",
     "iopub.status.busy": "2023-05-21T10:03:32.185934Z",
     "iopub.status.idle": "2023-05-21T10:03:32.200643Z",
     "shell.execute_reply": "2023-05-21T10:03:32.199678Z"
    },
    "papermill": {
     "duration": 0.033267,
     "end_time": "2023-05-21T10:03:32.202580",
     "exception": false,
     "start_time": "2023-05-21T10:03:32.169313",
     "status": "completed"
    },
    "tags": []
   },
   "outputs": [
    {
     "data": {
      "text/html": [
       "<div>\n",
       "<style scoped>\n",
       "    .dataframe tbody tr th:only-of-type {\n",
       "        vertical-align: middle;\n",
       "    }\n",
       "\n",
       "    .dataframe tbody tr th {\n",
       "        vertical-align: top;\n",
       "    }\n",
       "\n",
       "    .dataframe thead th {\n",
       "        text-align: right;\n",
       "    }\n",
       "</style>\n",
       "<table border=\"1\" class=\"dataframe\">\n",
       "  <thead>\n",
       "    <tr style=\"text-align: right;\">\n",
       "      <th></th>\n",
       "      <th>Product_name</th>\n",
       "      <th>storage</th>\n",
       "      <th>drive_type</th>\n",
       "      <th>rating</th>\n",
       "      <th>price</th>\n",
       "    </tr>\n",
       "  </thead>\n",
       "  <tbody>\n",
       "    <tr>\n",
       "      <th>0</th>\n",
       "      <td>HP</td>\n",
       "      <td>64</td>\n",
       "      <td>Pen Drive</td>\n",
       "      <td>3.8</td>\n",
       "      <td>459</td>\n",
       "    </tr>\n",
       "    <tr>\n",
       "      <th>1</th>\n",
       "      <td>HP</td>\n",
       "      <td>64</td>\n",
       "      <td>Pen Drive</td>\n",
       "      <td>3.8</td>\n",
       "      <td>459</td>\n",
       "    </tr>\n",
       "    <tr>\n",
       "      <th>2</th>\n",
       "      <td>SanDisk</td>\n",
       "      <td>64</td>\n",
       "      <td>OTG Drive</td>\n",
       "      <td>4.2</td>\n",
       "      <td>729</td>\n",
       "    </tr>\n",
       "    <tr>\n",
       "      <th>3</th>\n",
       "      <td>SanDisk</td>\n",
       "      <td>28</td>\n",
       "      <td>OTG Drive</td>\n",
       "      <td>4.3</td>\n",
       "      <td>1199</td>\n",
       "    </tr>\n",
       "    <tr>\n",
       "      <th>4</th>\n",
       "      <td>SanDisk</td>\n",
       "      <td>32</td>\n",
       "      <td>OTG Drive</td>\n",
       "      <td>4.3</td>\n",
       "      <td>619</td>\n",
       "    </tr>\n",
       "    <tr>\n",
       "      <th>...</th>\n",
       "      <td>...</td>\n",
       "      <td>...</td>\n",
       "      <td>...</td>\n",
       "      <td>...</td>\n",
       "      <td>...</td>\n",
       "    </tr>\n",
       "    <tr>\n",
       "      <th>666</th>\n",
       "      <td>SanDisk</td>\n",
       "      <td>32</td>\n",
       "      <td>Pen Drive</td>\n",
       "      <td>4.8</td>\n",
       "      <td>625</td>\n",
       "    </tr>\n",
       "    <tr>\n",
       "      <th>667</th>\n",
       "      <td>wnd</td>\n",
       "      <td>16</td>\n",
       "      <td>Pen Drive</td>\n",
       "      <td>0.0</td>\n",
       "      <td>399</td>\n",
       "    </tr>\n",
       "    <tr>\n",
       "      <th>668</th>\n",
       "      <td>SanDisk</td>\n",
       "      <td>16</td>\n",
       "      <td>Pen Drive</td>\n",
       "      <td>4.4</td>\n",
       "      <td>520</td>\n",
       "    </tr>\n",
       "    <tr>\n",
       "      <th>669</th>\n",
       "      <td>SanDisk</td>\n",
       "      <td>32</td>\n",
       "      <td>OTG Drive</td>\n",
       "      <td>3.8</td>\n",
       "      <td>603</td>\n",
       "    </tr>\n",
       "    <tr>\n",
       "      <th>670</th>\n",
       "      <td>SanDisk</td>\n",
       "      <td>16</td>\n",
       "      <td>Pen Drive</td>\n",
       "      <td>3.9</td>\n",
       "      <td>499</td>\n",
       "    </tr>\n",
       "  </tbody>\n",
       "</table>\n",
       "<p>671 rows × 5 columns</p>\n",
       "</div>"
      ],
      "text/plain": [
       "    Product_name  storage drive_type  rating  price\n",
       "0             HP       64  Pen Drive     3.8    459\n",
       "1             HP       64  Pen Drive     3.8    459\n",
       "2        SanDisk       64  OTG Drive     4.2    729\n",
       "3        SanDisk       28  OTG Drive     4.3   1199\n",
       "4        SanDisk       32  OTG Drive     4.3    619\n",
       "..           ...      ...        ...     ...    ...\n",
       "666      SanDisk       32  Pen Drive     4.8    625\n",
       "667          wnd       16  Pen Drive     0.0    399\n",
       "668      SanDisk       16  Pen Drive     4.4    520\n",
       "669      SanDisk       32  OTG Drive     3.8    603\n",
       "670      SanDisk       16  Pen Drive     3.9    499\n",
       "\n",
       "[671 rows x 5 columns]"
      ]
     },
     "execution_count": 40,
     "metadata": {},
     "output_type": "execute_result"
    }
   ],
   "source": [
    "pen_drive"
   ]
  },
  {
   "cell_type": "code",
   "execution_count": null,
   "id": "ecd9ae63",
   "metadata": {
    "papermill": {
     "duration": 0.015288,
     "end_time": "2023-05-21T10:03:32.233376",
     "exception": false,
     "start_time": "2023-05-21T10:03:32.218088",
     "status": "completed"
    },
    "tags": []
   },
   "outputs": [],
   "source": []
  },
  {
   "cell_type": "markdown",
   "id": "58fd8fe7",
   "metadata": {
    "papermill": {
     "duration": 0.015046,
     "end_time": "2023-05-21T10:03:32.263841",
     "exception": false,
     "start_time": "2023-05-21T10:03:32.248795",
     "status": "completed"
    },
    "tags": []
   },
   "source": [
    "# Model"
   ]
  },
  {
   "cell_type": "code",
   "execution_count": 41,
   "id": "15e389b4",
   "metadata": {
    "execution": {
     "iopub.execute_input": "2023-05-21T10:03:32.297307Z",
     "iopub.status.busy": "2023-05-21T10:03:32.296235Z",
     "iopub.status.idle": "2023-05-21T10:03:33.603036Z",
     "shell.execute_reply": "2023-05-21T10:03:33.601905Z"
    },
    "papermill": {
     "duration": 1.326211,
     "end_time": "2023-05-21T10:03:33.605613",
     "exception": false,
     "start_time": "2023-05-21T10:03:32.279402",
     "status": "completed"
    },
    "tags": []
   },
   "outputs": [
    {
     "name": "stderr",
     "output_type": "stream",
     "text": [
      "/opt/conda/lib/python3.10/site-packages/scipy/__init__.py:146: UserWarning: A NumPy version >=1.16.5 and <1.23.0 is required for this version of SciPy (detected version 1.23.5\n",
      "  warnings.warn(f\"A NumPy version >={np_minversion} and <{np_maxversion}\"\n"
     ]
    }
   ],
   "source": [
    "from sklearn.preprocessing import StandardScaler\n",
    "from sklearn.model_selection import train_test_split\n",
    "from sklearn import svm\n",
    "from sklearn.metrics import accuracy_score"
   ]
  },
  {
   "cell_type": "code",
   "execution_count": 42,
   "id": "9e427d63",
   "metadata": {
    "execution": {
     "iopub.execute_input": "2023-05-21T10:03:33.638973Z",
     "iopub.status.busy": "2023-05-21T10:03:33.638552Z",
     "iopub.status.idle": "2023-05-21T10:03:33.646148Z",
     "shell.execute_reply": "2023-05-21T10:03:33.645018Z"
    },
    "papermill": {
     "duration": 0.027003,
     "end_time": "2023-05-21T10:03:33.648432",
     "exception": false,
     "start_time": "2023-05-21T10:03:33.621429",
     "status": "completed"
    },
    "tags": []
   },
   "outputs": [],
   "source": [
    "# separating the data and labels\n",
    "x = pen_drive.drop(columns = 'price', axis=1)\n",
    "y = pen_drive['price']"
   ]
  },
  {
   "cell_type": "code",
   "execution_count": 43,
   "id": "511b148a",
   "metadata": {
    "execution": {
     "iopub.execute_input": "2023-05-21T10:03:33.682396Z",
     "iopub.status.busy": "2023-05-21T10:03:33.681961Z",
     "iopub.status.idle": "2023-05-21T10:03:33.689225Z",
     "shell.execute_reply": "2023-05-21T10:03:33.687378Z"
    },
    "papermill": {
     "duration": 0.02668,
     "end_time": "2023-05-21T10:03:33.691557",
     "exception": false,
     "start_time": "2023-05-21T10:03:33.664877",
     "status": "completed"
    },
    "tags": []
   },
   "outputs": [
    {
     "name": "stdout",
     "output_type": "stream",
     "text": [
      "0       459\n",
      "1       459\n",
      "2       729\n",
      "3      1199\n",
      "4       619\n",
      "       ... \n",
      "666     625\n",
      "667     399\n",
      "668     520\n",
      "669     603\n",
      "670     499\n",
      "Name: price, Length: 671, dtype: int64\n"
     ]
    }
   ],
   "source": [
    "print(y)"
   ]
  },
  {
   "cell_type": "code",
   "execution_count": 44,
   "id": "45dd76fa",
   "metadata": {
    "execution": {
     "iopub.execute_input": "2023-05-21T10:03:33.725395Z",
     "iopub.status.busy": "2023-05-21T10:03:33.724967Z",
     "iopub.status.idle": "2023-05-21T10:03:33.731549Z",
     "shell.execute_reply": "2023-05-21T10:03:33.730600Z"
    },
    "papermill": {
     "duration": 0.026429,
     "end_time": "2023-05-21T10:03:33.733832",
     "exception": false,
     "start_time": "2023-05-21T10:03:33.707403",
     "status": "completed"
    },
    "tags": []
   },
   "outputs": [],
   "source": [
    "from sklearn.model_selection import train_test_split\n",
    "x_train,x_test,y_train,y_test=train_test_split(x,y,test_size=0.1)"
   ]
  },
  {
   "cell_type": "code",
   "execution_count": 45,
   "id": "9ef04d31",
   "metadata": {
    "execution": {
     "iopub.execute_input": "2023-05-21T10:03:33.767868Z",
     "iopub.status.busy": "2023-05-21T10:03:33.767473Z",
     "iopub.status.idle": "2023-05-21T10:03:33.792793Z",
     "shell.execute_reply": "2023-05-21T10:03:33.791689Z"
    },
    "papermill": {
     "duration": 0.045192,
     "end_time": "2023-05-21T10:03:33.795281",
     "exception": false,
     "start_time": "2023-05-21T10:03:33.750089",
     "status": "completed"
    },
    "tags": []
   },
   "outputs": [],
   "source": [
    "from sklearn.linear_model import LinearRegression\n",
    "from sklearn.metrics import r2_score\n",
    "from sklearn.preprocessing import OneHotEncoder\n",
    "from sklearn.compose import make_column_transformer\n",
    "from sklearn.pipeline import make_pipeline"
   ]
  },
  {
   "cell_type": "code",
   "execution_count": 46,
   "id": "6141f364",
   "metadata": {
    "execution": {
     "iopub.execute_input": "2023-05-21T10:03:33.828727Z",
     "iopub.status.busy": "2023-05-21T10:03:33.828330Z",
     "iopub.status.idle": "2023-05-21T10:03:33.843220Z",
     "shell.execute_reply": "2023-05-21T10:03:33.842193Z"
    },
    "papermill": {
     "duration": 0.034282,
     "end_time": "2023-05-21T10:03:33.845461",
     "exception": false,
     "start_time": "2023-05-21T10:03:33.811179",
     "status": "completed"
    },
    "tags": []
   },
   "outputs": [
    {
     "data": {
      "text/html": [
       "<style>#sk-container-id-1 {color: black;background-color: white;}#sk-container-id-1 pre{padding: 0;}#sk-container-id-1 div.sk-toggleable {background-color: white;}#sk-container-id-1 label.sk-toggleable__label {cursor: pointer;display: block;width: 100%;margin-bottom: 0;padding: 0.3em;box-sizing: border-box;text-align: center;}#sk-container-id-1 label.sk-toggleable__label-arrow:before {content: \"▸\";float: left;margin-right: 0.25em;color: #696969;}#sk-container-id-1 label.sk-toggleable__label-arrow:hover:before {color: black;}#sk-container-id-1 div.sk-estimator:hover label.sk-toggleable__label-arrow:before {color: black;}#sk-container-id-1 div.sk-toggleable__content {max-height: 0;max-width: 0;overflow: hidden;text-align: left;background-color: #f0f8ff;}#sk-container-id-1 div.sk-toggleable__content pre {margin: 0.2em;color: black;border-radius: 0.25em;background-color: #f0f8ff;}#sk-container-id-1 input.sk-toggleable__control:checked~div.sk-toggleable__content {max-height: 200px;max-width: 100%;overflow: auto;}#sk-container-id-1 input.sk-toggleable__control:checked~label.sk-toggleable__label-arrow:before {content: \"▾\";}#sk-container-id-1 div.sk-estimator input.sk-toggleable__control:checked~label.sk-toggleable__label {background-color: #d4ebff;}#sk-container-id-1 div.sk-label input.sk-toggleable__control:checked~label.sk-toggleable__label {background-color: #d4ebff;}#sk-container-id-1 input.sk-hidden--visually {border: 0;clip: rect(1px 1px 1px 1px);clip: rect(1px, 1px, 1px, 1px);height: 1px;margin: -1px;overflow: hidden;padding: 0;position: absolute;width: 1px;}#sk-container-id-1 div.sk-estimator {font-family: monospace;background-color: #f0f8ff;border: 1px dotted black;border-radius: 0.25em;box-sizing: border-box;margin-bottom: 0.5em;}#sk-container-id-1 div.sk-estimator:hover {background-color: #d4ebff;}#sk-container-id-1 div.sk-parallel-item::after {content: \"\";width: 100%;border-bottom: 1px solid gray;flex-grow: 1;}#sk-container-id-1 div.sk-label:hover label.sk-toggleable__label {background-color: #d4ebff;}#sk-container-id-1 div.sk-serial::before {content: \"\";position: absolute;border-left: 1px solid gray;box-sizing: border-box;top: 0;bottom: 0;left: 50%;z-index: 0;}#sk-container-id-1 div.sk-serial {display: flex;flex-direction: column;align-items: center;background-color: white;padding-right: 0.2em;padding-left: 0.2em;position: relative;}#sk-container-id-1 div.sk-item {position: relative;z-index: 1;}#sk-container-id-1 div.sk-parallel {display: flex;align-items: stretch;justify-content: center;background-color: white;position: relative;}#sk-container-id-1 div.sk-item::before, #sk-container-id-1 div.sk-parallel-item::before {content: \"\";position: absolute;border-left: 1px solid gray;box-sizing: border-box;top: 0;bottom: 0;left: 50%;z-index: -1;}#sk-container-id-1 div.sk-parallel-item {display: flex;flex-direction: column;z-index: 1;position: relative;background-color: white;}#sk-container-id-1 div.sk-parallel-item:first-child::after {align-self: flex-end;width: 50%;}#sk-container-id-1 div.sk-parallel-item:last-child::after {align-self: flex-start;width: 50%;}#sk-container-id-1 div.sk-parallel-item:only-child::after {width: 0;}#sk-container-id-1 div.sk-dashed-wrapped {border: 1px dashed gray;margin: 0 0.4em 0.5em 0.4em;box-sizing: border-box;padding-bottom: 0.4em;background-color: white;}#sk-container-id-1 div.sk-label label {font-family: monospace;font-weight: bold;display: inline-block;line-height: 1.2em;}#sk-container-id-1 div.sk-label-container {text-align: center;}#sk-container-id-1 div.sk-container {/* jupyter's `normalize.less` sets `[hidden] { display: none; }` but bootstrap.min.css set `[hidden] { display: none !important; }` so we also need the `!important` here to be able to override the default hidden behavior on the sphinx rendered scikit-learn.org. See: https://github.com/scikit-learn/scikit-learn/issues/21755 */display: inline-block !important;position: relative;}#sk-container-id-1 div.sk-text-repr-fallback {display: none;}</style><div id=\"sk-container-id-1\" class=\"sk-top-container\"><div class=\"sk-text-repr-fallback\"><pre>OneHotEncoder()</pre><b>In a Jupyter environment, please rerun this cell to show the HTML representation or trust the notebook. <br />On GitHub, the HTML representation is unable to render, please try loading this page with nbviewer.org.</b></div><div class=\"sk-container\" hidden><div class=\"sk-item\"><div class=\"sk-estimator sk-toggleable\"><input class=\"sk-toggleable__control sk-hidden--visually\" id=\"sk-estimator-id-1\" type=\"checkbox\" checked><label for=\"sk-estimator-id-1\" class=\"sk-toggleable__label sk-toggleable__label-arrow\">OneHotEncoder</label><div class=\"sk-toggleable__content\"><pre>OneHotEncoder()</pre></div></div></div></div></div>"
      ],
      "text/plain": [
       "OneHotEncoder()"
      ]
     },
     "execution_count": 46,
     "metadata": {},
     "output_type": "execute_result"
    }
   ],
   "source": [
    "ohe = OneHotEncoder()\n",
    "ohe.fit(x[['Product_name','drive_type']])"
   ]
  },
  {
   "cell_type": "code",
   "execution_count": 47,
   "id": "51c0ccf9",
   "metadata": {
    "execution": {
     "iopub.execute_input": "2023-05-21T10:03:33.878997Z",
     "iopub.status.busy": "2023-05-21T10:03:33.878610Z",
     "iopub.status.idle": "2023-05-21T10:03:33.886041Z",
     "shell.execute_reply": "2023-05-21T10:03:33.884879Z"
    },
    "papermill": {
     "duration": 0.026746,
     "end_time": "2023-05-21T10:03:33.888214",
     "exception": false,
     "start_time": "2023-05-21T10:03:33.861468",
     "status": "completed"
    },
    "tags": []
   },
   "outputs": [
    {
     "data": {
      "text/plain": [
       "[array(['ADATA', 'Acer', 'Correngo', 'Dinosaur', 'E-Rays', 'EDENIC', 'EO',\n",
       "        'EVM', 'FLOURISH', 'GREEN', 'HP', 'Hayyo', 'KBR', 'KINGSTON',\n",
       "        'Larecastle', 'Lexar', 'MU', 'Master', 'Micorware', 'Microware',\n",
       "        'PANKREETI', 'PANTAGRAM', 'PNY', 'Rapidisk', 'SE.13', 'SMKT',\n",
       "        'SanDisk', 'Sandisk', 'Siddhartha', 'Silicon', 'Simmtronics',\n",
       "        'Strontium', 'TREk', 'Tobo', 'Transcend', 'UNIY', 'USM', 'V',\n",
       "        'Vingajoy', 'XElectron', 'Xenio', 'Zoook', 'dhcp', 'iball',\n",
       "        'kioxia', 'microware', 'wnd', 'zeztee'], dtype=object),\n",
       " array(['OTG Drive', 'Pen Drive'], dtype=object)]"
      ]
     },
     "execution_count": 47,
     "metadata": {},
     "output_type": "execute_result"
    }
   ],
   "source": [
    "ohe.categories_"
   ]
  },
  {
   "cell_type": "code",
   "execution_count": 48,
   "id": "7463df93",
   "metadata": {
    "execution": {
     "iopub.execute_input": "2023-05-21T10:03:33.922262Z",
     "iopub.status.busy": "2023-05-21T10:03:33.921514Z",
     "iopub.status.idle": "2023-05-21T10:03:33.926490Z",
     "shell.execute_reply": "2023-05-21T10:03:33.925398Z"
    },
    "papermill": {
     "duration": 0.024258,
     "end_time": "2023-05-21T10:03:33.928555",
     "exception": false,
     "start_time": "2023-05-21T10:03:33.904297",
     "status": "completed"
    },
    "tags": []
   },
   "outputs": [],
   "source": [
    "column_trans = make_column_transformer((OneHotEncoder(categories=ohe.categories_),['Product_name','drive_type']),\n",
    "                                      remainder='passthrough')"
   ]
  },
  {
   "cell_type": "code",
   "execution_count": 49,
   "id": "41edd82d",
   "metadata": {
    "execution": {
     "iopub.execute_input": "2023-05-21T10:03:33.962819Z",
     "iopub.status.busy": "2023-05-21T10:03:33.961707Z",
     "iopub.status.idle": "2023-05-21T10:03:33.966003Z",
     "shell.execute_reply": "2023-05-21T10:03:33.965301Z"
    },
    "papermill": {
     "duration": 0.023104,
     "end_time": "2023-05-21T10:03:33.967845",
     "exception": false,
     "start_time": "2023-05-21T10:03:33.944741",
     "status": "completed"
    },
    "tags": []
   },
   "outputs": [],
   "source": [
    "lr = LinearRegression()"
   ]
  },
  {
   "cell_type": "code",
   "execution_count": 50,
   "id": "eaa86ab9",
   "metadata": {
    "execution": {
     "iopub.execute_input": "2023-05-21T10:03:34.001713Z",
     "iopub.status.busy": "2023-05-21T10:03:34.000983Z",
     "iopub.status.idle": "2023-05-21T10:03:34.005556Z",
     "shell.execute_reply": "2023-05-21T10:03:34.004616Z"
    },
    "papermill": {
     "duration": 0.023896,
     "end_time": "2023-05-21T10:03:34.007834",
     "exception": false,
     "start_time": "2023-05-21T10:03:33.983938",
     "status": "completed"
    },
    "tags": []
   },
   "outputs": [],
   "source": [
    "pipe = make_pipeline(column_trans,lr)"
   ]
  },
  {
   "cell_type": "code",
   "execution_count": 51,
   "id": "3a7ca65d",
   "metadata": {
    "execution": {
     "iopub.execute_input": "2023-05-21T10:03:34.041527Z",
     "iopub.status.busy": "2023-05-21T10:03:34.041090Z",
     "iopub.status.idle": "2023-05-21T10:03:34.126045Z",
     "shell.execute_reply": "2023-05-21T10:03:34.124947Z"
    },
    "papermill": {
     "duration": 0.104552,
     "end_time": "2023-05-21T10:03:34.128453",
     "exception": false,
     "start_time": "2023-05-21T10:03:34.023901",
     "status": "completed"
    },
    "tags": []
   },
   "outputs": [
    {
     "data": {
      "text/html": [
       "<style>#sk-container-id-2 {color: black;background-color: white;}#sk-container-id-2 pre{padding: 0;}#sk-container-id-2 div.sk-toggleable {background-color: white;}#sk-container-id-2 label.sk-toggleable__label {cursor: pointer;display: block;width: 100%;margin-bottom: 0;padding: 0.3em;box-sizing: border-box;text-align: center;}#sk-container-id-2 label.sk-toggleable__label-arrow:before {content: \"▸\";float: left;margin-right: 0.25em;color: #696969;}#sk-container-id-2 label.sk-toggleable__label-arrow:hover:before {color: black;}#sk-container-id-2 div.sk-estimator:hover label.sk-toggleable__label-arrow:before {color: black;}#sk-container-id-2 div.sk-toggleable__content {max-height: 0;max-width: 0;overflow: hidden;text-align: left;background-color: #f0f8ff;}#sk-container-id-2 div.sk-toggleable__content pre {margin: 0.2em;color: black;border-radius: 0.25em;background-color: #f0f8ff;}#sk-container-id-2 input.sk-toggleable__control:checked~div.sk-toggleable__content {max-height: 200px;max-width: 100%;overflow: auto;}#sk-container-id-2 input.sk-toggleable__control:checked~label.sk-toggleable__label-arrow:before {content: \"▾\";}#sk-container-id-2 div.sk-estimator input.sk-toggleable__control:checked~label.sk-toggleable__label {background-color: #d4ebff;}#sk-container-id-2 div.sk-label input.sk-toggleable__control:checked~label.sk-toggleable__label {background-color: #d4ebff;}#sk-container-id-2 input.sk-hidden--visually {border: 0;clip: rect(1px 1px 1px 1px);clip: rect(1px, 1px, 1px, 1px);height: 1px;margin: -1px;overflow: hidden;padding: 0;position: absolute;width: 1px;}#sk-container-id-2 div.sk-estimator {font-family: monospace;background-color: #f0f8ff;border: 1px dotted black;border-radius: 0.25em;box-sizing: border-box;margin-bottom: 0.5em;}#sk-container-id-2 div.sk-estimator:hover {background-color: #d4ebff;}#sk-container-id-2 div.sk-parallel-item::after {content: \"\";width: 100%;border-bottom: 1px solid gray;flex-grow: 1;}#sk-container-id-2 div.sk-label:hover label.sk-toggleable__label {background-color: #d4ebff;}#sk-container-id-2 div.sk-serial::before {content: \"\";position: absolute;border-left: 1px solid gray;box-sizing: border-box;top: 0;bottom: 0;left: 50%;z-index: 0;}#sk-container-id-2 div.sk-serial {display: flex;flex-direction: column;align-items: center;background-color: white;padding-right: 0.2em;padding-left: 0.2em;position: relative;}#sk-container-id-2 div.sk-item {position: relative;z-index: 1;}#sk-container-id-2 div.sk-parallel {display: flex;align-items: stretch;justify-content: center;background-color: white;position: relative;}#sk-container-id-2 div.sk-item::before, #sk-container-id-2 div.sk-parallel-item::before {content: \"\";position: absolute;border-left: 1px solid gray;box-sizing: border-box;top: 0;bottom: 0;left: 50%;z-index: -1;}#sk-container-id-2 div.sk-parallel-item {display: flex;flex-direction: column;z-index: 1;position: relative;background-color: white;}#sk-container-id-2 div.sk-parallel-item:first-child::after {align-self: flex-end;width: 50%;}#sk-container-id-2 div.sk-parallel-item:last-child::after {align-self: flex-start;width: 50%;}#sk-container-id-2 div.sk-parallel-item:only-child::after {width: 0;}#sk-container-id-2 div.sk-dashed-wrapped {border: 1px dashed gray;margin: 0 0.4em 0.5em 0.4em;box-sizing: border-box;padding-bottom: 0.4em;background-color: white;}#sk-container-id-2 div.sk-label label {font-family: monospace;font-weight: bold;display: inline-block;line-height: 1.2em;}#sk-container-id-2 div.sk-label-container {text-align: center;}#sk-container-id-2 div.sk-container {/* jupyter's `normalize.less` sets `[hidden] { display: none; }` but bootstrap.min.css set `[hidden] { display: none !important; }` so we also need the `!important` here to be able to override the default hidden behavior on the sphinx rendered scikit-learn.org. See: https://github.com/scikit-learn/scikit-learn/issues/21755 */display: inline-block !important;position: relative;}#sk-container-id-2 div.sk-text-repr-fallback {display: none;}</style><div id=\"sk-container-id-2\" class=\"sk-top-container\"><div class=\"sk-text-repr-fallback\"><pre>Pipeline(steps=[(&#x27;columntransformer&#x27;,\n",
       "                 ColumnTransformer(remainder=&#x27;passthrough&#x27;,\n",
       "                                   transformers=[(&#x27;onehotencoder&#x27;,\n",
       "                                                  OneHotEncoder(categories=[array([&#x27;ADATA&#x27;, &#x27;Acer&#x27;, &#x27;Correngo&#x27;, &#x27;Dinosaur&#x27;, &#x27;E-Rays&#x27;, &#x27;EDENIC&#x27;, &#x27;EO&#x27;,\n",
       "       &#x27;EVM&#x27;, &#x27;FLOURISH&#x27;, &#x27;GREEN&#x27;, &#x27;HP&#x27;, &#x27;Hayyo&#x27;, &#x27;KBR&#x27;, &#x27;KINGSTON&#x27;,\n",
       "       &#x27;Larecastle&#x27;, &#x27;Lexar&#x27;, &#x27;MU&#x27;, &#x27;Master&#x27;, &#x27;Micorware&#x27;, &#x27;Microware&#x27;,\n",
       "       &#x27;PANKREETI&#x27;, &#x27;PANTAGRAM&#x27;, &#x27;PNY&#x27;, &#x27;Ra....13&#x27;, &#x27;SMKT&#x27;,\n",
       "       &#x27;SanDisk&#x27;, &#x27;Sandisk&#x27;, &#x27;Siddhartha&#x27;, &#x27;Silicon&#x27;, &#x27;Simmtronics&#x27;,\n",
       "       &#x27;Strontium&#x27;, &#x27;TREk&#x27;, &#x27;Tobo&#x27;, &#x27;Transcend&#x27;, &#x27;UNIY&#x27;, &#x27;USM&#x27;, &#x27;V&#x27;,\n",
       "       &#x27;Vingajoy&#x27;, &#x27;XElectron&#x27;, &#x27;Xenio&#x27;, &#x27;Zoook&#x27;, &#x27;dhcp&#x27;, &#x27;iball&#x27;,\n",
       "       &#x27;kioxia&#x27;, &#x27;microware&#x27;, &#x27;wnd&#x27;, &#x27;zeztee&#x27;], dtype=object),\n",
       "                                                                            array([&#x27;OTG Drive&#x27;, &#x27;Pen Drive&#x27;], dtype=object)]),\n",
       "                                                  [&#x27;Product_name&#x27;,\n",
       "                                                   &#x27;drive_type&#x27;])])),\n",
       "                (&#x27;linearregression&#x27;, LinearRegression())])</pre><b>In a Jupyter environment, please rerun this cell to show the HTML representation or trust the notebook. <br />On GitHub, the HTML representation is unable to render, please try loading this page with nbviewer.org.</b></div><div class=\"sk-container\" hidden><div class=\"sk-item sk-dashed-wrapped\"><div class=\"sk-label-container\"><div class=\"sk-label sk-toggleable\"><input class=\"sk-toggleable__control sk-hidden--visually\" id=\"sk-estimator-id-2\" type=\"checkbox\" ><label for=\"sk-estimator-id-2\" class=\"sk-toggleable__label sk-toggleable__label-arrow\">Pipeline</label><div class=\"sk-toggleable__content\"><pre>Pipeline(steps=[(&#x27;columntransformer&#x27;,\n",
       "                 ColumnTransformer(remainder=&#x27;passthrough&#x27;,\n",
       "                                   transformers=[(&#x27;onehotencoder&#x27;,\n",
       "                                                  OneHotEncoder(categories=[array([&#x27;ADATA&#x27;, &#x27;Acer&#x27;, &#x27;Correngo&#x27;, &#x27;Dinosaur&#x27;, &#x27;E-Rays&#x27;, &#x27;EDENIC&#x27;, &#x27;EO&#x27;,\n",
       "       &#x27;EVM&#x27;, &#x27;FLOURISH&#x27;, &#x27;GREEN&#x27;, &#x27;HP&#x27;, &#x27;Hayyo&#x27;, &#x27;KBR&#x27;, &#x27;KINGSTON&#x27;,\n",
       "       &#x27;Larecastle&#x27;, &#x27;Lexar&#x27;, &#x27;MU&#x27;, &#x27;Master&#x27;, &#x27;Micorware&#x27;, &#x27;Microware&#x27;,\n",
       "       &#x27;PANKREETI&#x27;, &#x27;PANTAGRAM&#x27;, &#x27;PNY&#x27;, &#x27;Ra....13&#x27;, &#x27;SMKT&#x27;,\n",
       "       &#x27;SanDisk&#x27;, &#x27;Sandisk&#x27;, &#x27;Siddhartha&#x27;, &#x27;Silicon&#x27;, &#x27;Simmtronics&#x27;,\n",
       "       &#x27;Strontium&#x27;, &#x27;TREk&#x27;, &#x27;Tobo&#x27;, &#x27;Transcend&#x27;, &#x27;UNIY&#x27;, &#x27;USM&#x27;, &#x27;V&#x27;,\n",
       "       &#x27;Vingajoy&#x27;, &#x27;XElectron&#x27;, &#x27;Xenio&#x27;, &#x27;Zoook&#x27;, &#x27;dhcp&#x27;, &#x27;iball&#x27;,\n",
       "       &#x27;kioxia&#x27;, &#x27;microware&#x27;, &#x27;wnd&#x27;, &#x27;zeztee&#x27;], dtype=object),\n",
       "                                                                            array([&#x27;OTG Drive&#x27;, &#x27;Pen Drive&#x27;], dtype=object)]),\n",
       "                                                  [&#x27;Product_name&#x27;,\n",
       "                                                   &#x27;drive_type&#x27;])])),\n",
       "                (&#x27;linearregression&#x27;, LinearRegression())])</pre></div></div></div><div class=\"sk-serial\"><div class=\"sk-item sk-dashed-wrapped\"><div class=\"sk-label-container\"><div class=\"sk-label sk-toggleable\"><input class=\"sk-toggleable__control sk-hidden--visually\" id=\"sk-estimator-id-3\" type=\"checkbox\" ><label for=\"sk-estimator-id-3\" class=\"sk-toggleable__label sk-toggleable__label-arrow\">columntransformer: ColumnTransformer</label><div class=\"sk-toggleable__content\"><pre>ColumnTransformer(remainder=&#x27;passthrough&#x27;,\n",
       "                  transformers=[(&#x27;onehotencoder&#x27;,\n",
       "                                 OneHotEncoder(categories=[array([&#x27;ADATA&#x27;, &#x27;Acer&#x27;, &#x27;Correngo&#x27;, &#x27;Dinosaur&#x27;, &#x27;E-Rays&#x27;, &#x27;EDENIC&#x27;, &#x27;EO&#x27;,\n",
       "       &#x27;EVM&#x27;, &#x27;FLOURISH&#x27;, &#x27;GREEN&#x27;, &#x27;HP&#x27;, &#x27;Hayyo&#x27;, &#x27;KBR&#x27;, &#x27;KINGSTON&#x27;,\n",
       "       &#x27;Larecastle&#x27;, &#x27;Lexar&#x27;, &#x27;MU&#x27;, &#x27;Master&#x27;, &#x27;Micorware&#x27;, &#x27;Microware&#x27;,\n",
       "       &#x27;PANKREETI&#x27;, &#x27;PANTAGRAM&#x27;, &#x27;PNY&#x27;, &#x27;Rapidisk&#x27;, &#x27;SE.13&#x27;, &#x27;SMKT&#x27;,\n",
       "       &#x27;SanDisk&#x27;, &#x27;Sandisk&#x27;, &#x27;Siddhartha&#x27;, &#x27;Silicon&#x27;, &#x27;Simmtronics&#x27;,\n",
       "       &#x27;Strontium&#x27;, &#x27;TREk&#x27;, &#x27;Tobo&#x27;, &#x27;Transcend&#x27;, &#x27;UNIY&#x27;, &#x27;USM&#x27;, &#x27;V&#x27;,\n",
       "       &#x27;Vingajoy&#x27;, &#x27;XElectron&#x27;, &#x27;Xenio&#x27;, &#x27;Zoook&#x27;, &#x27;dhcp&#x27;, &#x27;iball&#x27;,\n",
       "       &#x27;kioxia&#x27;, &#x27;microware&#x27;, &#x27;wnd&#x27;, &#x27;zeztee&#x27;], dtype=object),\n",
       "                                                           array([&#x27;OTG Drive&#x27;, &#x27;Pen Drive&#x27;], dtype=object)]),\n",
       "                                 [&#x27;Product_name&#x27;, &#x27;drive_type&#x27;])])</pre></div></div></div><div class=\"sk-parallel\"><div class=\"sk-parallel-item\"><div class=\"sk-item\"><div class=\"sk-label-container\"><div class=\"sk-label sk-toggleable\"><input class=\"sk-toggleable__control sk-hidden--visually\" id=\"sk-estimator-id-4\" type=\"checkbox\" ><label for=\"sk-estimator-id-4\" class=\"sk-toggleable__label sk-toggleable__label-arrow\">onehotencoder</label><div class=\"sk-toggleable__content\"><pre>[&#x27;Product_name&#x27;, &#x27;drive_type&#x27;]</pre></div></div></div><div class=\"sk-serial\"><div class=\"sk-item\"><div class=\"sk-estimator sk-toggleable\"><input class=\"sk-toggleable__control sk-hidden--visually\" id=\"sk-estimator-id-5\" type=\"checkbox\" ><label for=\"sk-estimator-id-5\" class=\"sk-toggleable__label sk-toggleable__label-arrow\">OneHotEncoder</label><div class=\"sk-toggleable__content\"><pre>OneHotEncoder(categories=[array([&#x27;ADATA&#x27;, &#x27;Acer&#x27;, &#x27;Correngo&#x27;, &#x27;Dinosaur&#x27;, &#x27;E-Rays&#x27;, &#x27;EDENIC&#x27;, &#x27;EO&#x27;,\n",
       "       &#x27;EVM&#x27;, &#x27;FLOURISH&#x27;, &#x27;GREEN&#x27;, &#x27;HP&#x27;, &#x27;Hayyo&#x27;, &#x27;KBR&#x27;, &#x27;KINGSTON&#x27;,\n",
       "       &#x27;Larecastle&#x27;, &#x27;Lexar&#x27;, &#x27;MU&#x27;, &#x27;Master&#x27;, &#x27;Micorware&#x27;, &#x27;Microware&#x27;,\n",
       "       &#x27;PANKREETI&#x27;, &#x27;PANTAGRAM&#x27;, &#x27;PNY&#x27;, &#x27;Rapidisk&#x27;, &#x27;SE.13&#x27;, &#x27;SMKT&#x27;,\n",
       "       &#x27;SanDisk&#x27;, &#x27;Sandisk&#x27;, &#x27;Siddhartha&#x27;, &#x27;Silicon&#x27;, &#x27;Simmtronics&#x27;,\n",
       "       &#x27;Strontium&#x27;, &#x27;TREk&#x27;, &#x27;Tobo&#x27;, &#x27;Transcend&#x27;, &#x27;UNIY&#x27;, &#x27;USM&#x27;, &#x27;V&#x27;,\n",
       "       &#x27;Vingajoy&#x27;, &#x27;XElectron&#x27;, &#x27;Xenio&#x27;, &#x27;Zoook&#x27;, &#x27;dhcp&#x27;, &#x27;iball&#x27;,\n",
       "       &#x27;kioxia&#x27;, &#x27;microware&#x27;, &#x27;wnd&#x27;, &#x27;zeztee&#x27;], dtype=object),\n",
       "                          array([&#x27;OTG Drive&#x27;, &#x27;Pen Drive&#x27;], dtype=object)])</pre></div></div></div></div></div></div><div class=\"sk-parallel-item\"><div class=\"sk-item\"><div class=\"sk-label-container\"><div class=\"sk-label sk-toggleable\"><input class=\"sk-toggleable__control sk-hidden--visually\" id=\"sk-estimator-id-6\" type=\"checkbox\" ><label for=\"sk-estimator-id-6\" class=\"sk-toggleable__label sk-toggleable__label-arrow\">remainder</label><div class=\"sk-toggleable__content\"><pre>[&#x27;storage&#x27;, &#x27;rating&#x27;]</pre></div></div></div><div class=\"sk-serial\"><div class=\"sk-item\"><div class=\"sk-estimator sk-toggleable\"><input class=\"sk-toggleable__control sk-hidden--visually\" id=\"sk-estimator-id-7\" type=\"checkbox\" ><label for=\"sk-estimator-id-7\" class=\"sk-toggleable__label sk-toggleable__label-arrow\">passthrough</label><div class=\"sk-toggleable__content\"><pre>passthrough</pre></div></div></div></div></div></div></div></div><div class=\"sk-item\"><div class=\"sk-estimator sk-toggleable\"><input class=\"sk-toggleable__control sk-hidden--visually\" id=\"sk-estimator-id-8\" type=\"checkbox\" ><label for=\"sk-estimator-id-8\" class=\"sk-toggleable__label sk-toggleable__label-arrow\">LinearRegression</label><div class=\"sk-toggleable__content\"><pre>LinearRegression()</pre></div></div></div></div></div></div></div>"
      ],
      "text/plain": [
       "Pipeline(steps=[('columntransformer',\n",
       "                 ColumnTransformer(remainder='passthrough',\n",
       "                                   transformers=[('onehotencoder',\n",
       "                                                  OneHotEncoder(categories=[array(['ADATA', 'Acer', 'Correngo', 'Dinosaur', 'E-Rays', 'EDENIC', 'EO',\n",
       "       'EVM', 'FLOURISH', 'GREEN', 'HP', 'Hayyo', 'KBR', 'KINGSTON',\n",
       "       'Larecastle', 'Lexar', 'MU', 'Master', 'Micorware', 'Microware',\n",
       "       'PANKREETI', 'PANTAGRAM', 'PNY', 'Ra....13', 'SMKT',\n",
       "       'SanDisk', 'Sandisk', 'Siddhartha', 'Silicon', 'Simmtronics',\n",
       "       'Strontium', 'TREk', 'Tobo', 'Transcend', 'UNIY', 'USM', 'V',\n",
       "       'Vingajoy', 'XElectron', 'Xenio', 'Zoook', 'dhcp', 'iball',\n",
       "       'kioxia', 'microware', 'wnd', 'zeztee'], dtype=object),\n",
       "                                                                            array(['OTG Drive', 'Pen Drive'], dtype=object)]),\n",
       "                                                  ['Product_name',\n",
       "                                                   'drive_type'])])),\n",
       "                ('linearregression', LinearRegression())])"
      ]
     },
     "execution_count": 51,
     "metadata": {},
     "output_type": "execute_result"
    }
   ],
   "source": [
    "pipe.fit(x_train,y_train)"
   ]
  },
  {
   "cell_type": "code",
   "execution_count": 52,
   "id": "caf268b5",
   "metadata": {
    "execution": {
     "iopub.execute_input": "2023-05-21T10:03:34.163945Z",
     "iopub.status.busy": "2023-05-21T10:03:34.163456Z",
     "iopub.status.idle": "2023-05-21T10:03:34.174824Z",
     "shell.execute_reply": "2023-05-21T10:03:34.173709Z"
    },
    "papermill": {
     "duration": 0.031485,
     "end_time": "2023-05-21T10:03:34.177044",
     "exception": false,
     "start_time": "2023-05-21T10:03:34.145559",
     "status": "completed"
    },
    "tags": []
   },
   "outputs": [],
   "source": [
    "y_pred=pipe.predict(x_test)"
   ]
  },
  {
   "cell_type": "code",
   "execution_count": 53,
   "id": "7885aa7d",
   "metadata": {
    "execution": {
     "iopub.execute_input": "2023-05-21T10:03:34.211897Z",
     "iopub.status.busy": "2023-05-21T10:03:34.211456Z",
     "iopub.status.idle": "2023-05-21T10:03:34.218651Z",
     "shell.execute_reply": "2023-05-21T10:03:34.217599Z"
    },
    "papermill": {
     "duration": 0.027259,
     "end_time": "2023-05-21T10:03:34.221011",
     "exception": false,
     "start_time": "2023-05-21T10:03:34.193752",
     "status": "completed"
    },
    "tags": []
   },
   "outputs": [
    {
     "data": {
      "text/plain": [
       "0.16754446275884805"
      ]
     },
     "execution_count": 53,
     "metadata": {},
     "output_type": "execute_result"
    }
   ],
   "source": [
    "r2_score(y_test,y_pred)"
   ]
  },
  {
   "cell_type": "code",
   "execution_count": 54,
   "id": "3283f96c",
   "metadata": {
    "execution": {
     "iopub.execute_input": "2023-05-21T10:03:34.256038Z",
     "iopub.status.busy": "2023-05-21T10:03:34.255220Z",
     "iopub.status.idle": "2023-05-21T10:03:54.036925Z",
     "shell.execute_reply": "2023-05-21T10:03:54.036014Z"
    },
    "papermill": {
     "duration": 19.801752,
     "end_time": "2023-05-21T10:03:54.039360",
     "exception": false,
     "start_time": "2023-05-21T10:03:34.237608",
     "status": "completed"
    },
    "tags": []
   },
   "outputs": [],
   "source": [
    "scores=[]\n",
    "for  i in range(1000):\n",
    "    x_train,x_test,y_train,y_test=train_test_split(x,y,test_size=0.1)\n",
    "    lr = LinearRegression()\n",
    "    pipe = make_pipeline(column_trans,lr)\n",
    "    pipe.fit(x_train,y_train)\n",
    "    y_pred=pipe.predict(x_test)\n",
    "    scores.append(r2_score(y_test,y_pred))"
   ]
  },
  {
   "cell_type": "code",
   "execution_count": 55,
   "id": "421b9e65",
   "metadata": {
    "execution": {
     "iopub.execute_input": "2023-05-21T10:03:54.073953Z",
     "iopub.status.busy": "2023-05-21T10:03:54.073556Z",
     "iopub.status.idle": "2023-05-21T10:03:54.078713Z",
     "shell.execute_reply": "2023-05-21T10:03:54.077499Z"
    },
    "papermill": {
     "duration": 0.024952,
     "end_time": "2023-05-21T10:03:54.080851",
     "exception": false,
     "start_time": "2023-05-21T10:03:54.055899",
     "status": "completed"
    },
    "tags": []
   },
   "outputs": [],
   "source": [
    "san=np.argmax(scores)"
   ]
  },
  {
   "cell_type": "code",
   "execution_count": 56,
   "id": "57454d0a",
   "metadata": {
    "execution": {
     "iopub.execute_input": "2023-05-21T10:03:54.116652Z",
     "iopub.status.busy": "2023-05-21T10:03:54.115923Z",
     "iopub.status.idle": "2023-05-21T10:03:54.122844Z",
     "shell.execute_reply": "2023-05-21T10:03:54.121774Z"
    },
    "papermill": {
     "duration": 0.026987,
     "end_time": "2023-05-21T10:03:54.125053",
     "exception": false,
     "start_time": "2023-05-21T10:03:54.098066",
     "status": "completed"
    },
    "tags": []
   },
   "outputs": [
    {
     "data": {
      "text/plain": [
       "0.5030325543554373"
      ]
     },
     "execution_count": 56,
     "metadata": {},
     "output_type": "execute_result"
    }
   ],
   "source": [
    "scores[np.argmax(scores)]"
   ]
  },
  {
   "cell_type": "code",
   "execution_count": 57,
   "id": "84c241ee",
   "metadata": {
    "execution": {
     "iopub.execute_input": "2023-05-21T10:03:54.160520Z",
     "iopub.status.busy": "2023-05-21T10:03:54.160089Z",
     "iopub.status.idle": "2023-05-21T10:03:54.192562Z",
     "shell.execute_reply": "2023-05-21T10:03:54.191470Z"
    },
    "papermill": {
     "duration": 0.053041,
     "end_time": "2023-05-21T10:03:54.194860",
     "exception": false,
     "start_time": "2023-05-21T10:03:54.141819",
     "status": "completed"
    },
    "tags": []
   },
   "outputs": [
    {
     "data": {
      "text/plain": [
       "0.24261809866172912"
      ]
     },
     "execution_count": 57,
     "metadata": {},
     "output_type": "execute_result"
    }
   ],
   "source": [
    "x_train,x_test,y_train,y_test=train_test_split(x,y,test_size=0.1,random_state=san)\n",
    "lr = LinearRegression()\n",
    "pipe = make_pipeline(column_trans,lr)\n",
    "pipe.fit(x_train,y_train)\n",
    "y_pred=pipe.predict(x_test)\n",
    "r2_score(y_test,y_pred)"
   ]
  },
  {
   "cell_type": "code",
   "execution_count": 58,
   "id": "aadbd783",
   "metadata": {
    "execution": {
     "iopub.execute_input": "2023-05-21T10:03:54.230083Z",
     "iopub.status.busy": "2023-05-21T10:03:54.229662Z",
     "iopub.status.idle": "2023-05-21T10:03:54.234072Z",
     "shell.execute_reply": "2023-05-21T10:03:54.232996Z"
    },
    "papermill": {
     "duration": 0.024357,
     "end_time": "2023-05-21T10:03:54.236165",
     "exception": false,
     "start_time": "2023-05-21T10:03:54.211808",
     "status": "completed"
    },
    "tags": []
   },
   "outputs": [],
   "source": [
    "import pickle"
   ]
  },
  {
   "cell_type": "code",
   "execution_count": 59,
   "id": "842744fa",
   "metadata": {
    "execution": {
     "iopub.execute_input": "2023-05-21T10:03:54.271062Z",
     "iopub.status.busy": "2023-05-21T10:03:54.270662Z",
     "iopub.status.idle": "2023-05-21T10:03:54.276291Z",
     "shell.execute_reply": "2023-05-21T10:03:54.275264Z"
    },
    "papermill": {
     "duration": 0.025613,
     "end_time": "2023-05-21T10:03:54.278412",
     "exception": false,
     "start_time": "2023-05-21T10:03:54.252799",
     "status": "completed"
    },
    "tags": []
   },
   "outputs": [],
   "source": [
    "filename = 'trained_model_pendrive.sav'\n",
    "pickle.dump(pipe, open(filename, 'wb'))"
   ]
  },
  {
   "cell_type": "code",
   "execution_count": 60,
   "id": "b87abc76",
   "metadata": {
    "execution": {
     "iopub.execute_input": "2023-05-21T10:03:54.313234Z",
     "iopub.status.busy": "2023-05-21T10:03:54.312812Z",
     "iopub.status.idle": "2023-05-21T10:03:54.318505Z",
     "shell.execute_reply": "2023-05-21T10:03:54.317409Z"
    },
    "papermill": {
     "duration": 0.025637,
     "end_time": "2023-05-21T10:03:54.320787",
     "exception": false,
     "start_time": "2023-05-21T10:03:54.295150",
     "status": "completed"
    },
    "tags": []
   },
   "outputs": [],
   "source": [
    "loaded_model=pickle.load(open('trained_model_pendrive.sav','rb'))"
   ]
  },
  {
   "cell_type": "code",
   "execution_count": 61,
   "id": "7e561421",
   "metadata": {
    "execution": {
     "iopub.execute_input": "2023-05-21T10:03:54.355278Z",
     "iopub.status.busy": "2023-05-21T10:03:54.354882Z",
     "iopub.status.idle": "2023-05-21T10:03:54.367251Z",
     "shell.execute_reply": "2023-05-21T10:03:54.365899Z"
    },
    "papermill": {
     "duration": 0.032147,
     "end_time": "2023-05-21T10:03:54.369441",
     "exception": false,
     "start_time": "2023-05-21T10:03:54.337294",
     "status": "completed"
    },
    "tags": []
   },
   "outputs": [],
   "source": [
    "price=loaded_model.predict(pd.DataFrame([['HP',64,'Pen Drive',4.2]],columns=[\"Product_name\" ,\"storage\" ,\"drive_type\", \"rating\"]))\n"
   ]
  },
  {
   "cell_type": "code",
   "execution_count": 62,
   "id": "5db07dd8",
   "metadata": {
    "execution": {
     "iopub.execute_input": "2023-05-21T10:03:54.403783Z",
     "iopub.status.busy": "2023-05-21T10:03:54.403396Z",
     "iopub.status.idle": "2023-05-21T10:03:54.408705Z",
     "shell.execute_reply": "2023-05-21T10:03:54.407652Z"
    },
    "papermill": {
     "duration": 0.02501,
     "end_time": "2023-05-21T10:03:54.410842",
     "exception": false,
     "start_time": "2023-05-21T10:03:54.385832",
     "status": "completed"
    },
    "tags": []
   },
   "outputs": [
    {
     "name": "stdout",
     "output_type": "stream",
     "text": [
      "[677.38344334]\n"
     ]
    }
   ],
   "source": [
    "print(price)"
   ]
  },
  {
   "cell_type": "code",
   "execution_count": null,
   "id": "ead49955",
   "metadata": {
    "papermill": {
     "duration": 0.016499,
     "end_time": "2023-05-21T10:03:54.444252",
     "exception": false,
     "start_time": "2023-05-21T10:03:54.427753",
     "status": "completed"
    },
    "tags": []
   },
   "outputs": [],
   "source": []
  }
 ],
 "metadata": {
  "kernelspec": {
   "display_name": "Python 3",
   "language": "python",
   "name": "python3"
  },
  "language_info": {
   "codemirror_mode": {
    "name": "ipython",
    "version": 3
   },
   "file_extension": ".py",
   "mimetype": "text/x-python",
   "name": "python",
   "nbconvert_exporter": "python",
   "pygments_lexer": "ipython3",
   "version": "3.10.10"
  },
  "papermill": {
   "default_parameters": {},
   "duration": 36.766325,
   "end_time": "2023-05-21T10:03:55.381922",
   "environment_variables": {},
   "exception": null,
   "input_path": "__notebook__.ipynb",
   "output_path": "__notebook__.ipynb",
   "parameters": {},
   "start_time": "2023-05-21T10:03:18.615597",
   "version": "2.4.0"
  }
 },
 "nbformat": 4,
 "nbformat_minor": 5
}
